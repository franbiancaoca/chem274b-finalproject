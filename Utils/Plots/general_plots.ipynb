{
 "cells": [
  {
   "cell_type": "markdown",
   "metadata": {},
   "source": [
    "### University of California, Berkeley\n",
    "### Chem 274B: Software Engineering Fundamentals for Molecular Sciences \n",
    "### Final Project\n",
    "### Creators:  Francine Bianca Oca, Kassady Marasigan and Korede Ogundele\n",
    "### Date Created: December 5, 2023\n",
    "\n",
    "This file contains functions and plots that pertain to our cellular automata model."
   ]
  },
  {
   "cell_type": "markdown",
   "metadata": {},
   "source": [
    "# PICK UP AT LINE 21"
   ]
  },
  {
   "cell_type": "code",
   "execution_count": null,
   "metadata": {},
   "outputs": [],
   "source": [
    "def plot_state_counts(step_number):\n",
    "    \"\"\"\n",
    "    This function plots the number of each individuals of each state at a given step on a bar graph.\n",
    "\n",
    "    Parameters\n",
    "    ----------\n",
    "    step_number : int\n",
    "    The step number we would like to view states for\n",
    "\n",
    "    Returns\n",
    "    -------\n",
    "    A bar graph with states and their proportion of the total population\n",
    "\n",
    "    \"\"\"\n",
    "    # open text file containing state counts.\n",
    "    # FILE NAME AND PATH WILL VARY DEPENDING ON THE SPECIFIC APPLICATION\n",
    "    with open('Data/filename.txt', 'r') as file:\n",
    "        lines = file.readlines()\n",
    "\n",
    "    # extract counts for the specified step number\n",
    "    for line in lines:\n",
    "        if line.startswith(f'Step {step_number}:'):\n",
    "            counts_line = line.strip().split(', ')\n",
    "            state1 = int(counts_line[0].split('=')[-1])\n",
    "            state2 = int(counts_line[1].split('=')[-1])\n",
    "            state3 = int(counts_line[2].split('=')[-1])\n",
    "\n",
    "            # get counts as a percentage of total population\n",
    "            total_population = GG_count + Gg_count + gg_count\n",
    "            homozygous_dominant_percentage = GG_count / total_population\n",
    "            heterozygous_percentage = GG_count / total_population\n",
    "            recessive_percentage = gg_count / total_population\n",
    "            \n",
    "            break\n",
    "    else:\n",
    "        # return an error if generation number is not found\n",
    "        print(f\"ERROR: Generation {generation_number} not found.\")\n",
    "        return\n",
    "\n",
    "    # Plot\n",
    "    labels = ['Homozygous Dominant', 'Heterozygous', 'Recessive']\n",
    "    counts = [homozygous_dominant_percentage, heterozygous_percentage, recessive_percentage]\n",
    "\n",
    "    plt.bar(labels, counts, color=['royalblue', 'mediumslateblue', 'mediumorchid'])\n",
    "    plt.title(f'Allele Percentages for Generation {generation_number}')\n",
    "    plt.xlabel('Genotype')\n",
    "    plt.ylabel('Proportion of Population')\n",
    "    plt.show()"
   ]
  }
 ],
 "metadata": {
  "language_info": {
   "name": "python"
  },
  "orig_nbformat": 4
 },
 "nbformat": 4,
 "nbformat_minor": 2
}
