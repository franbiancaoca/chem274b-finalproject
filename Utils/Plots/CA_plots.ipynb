{
 "cells": [
  {
   "cell_type": "markdown",
   "metadata": {},
   "source": [
    "### University of California, Berkeley\n",
    "### Chem 274B: Software Engineering Fundamentals for Molecular Sciences \n",
    "### Final Project\n",
    "### Creators:  Francine Bianca Oca, Kassady Marasigan and Korede Ogundele\n",
    "### Date Created: December 5, 2023\n",
    "\n",
    "This file contains functions and plots that pertain to our cellular automata model."
   ]
  },
  {
   "cell_type": "code",
   "execution_count": null,
   "metadata": {},
   "outputs": [],
   "source": [
    "import random\n",
    "\n",
    "import matplotlib.pyplot as plt\n",
    "import seaborn as sns\n",
    "import numpy as np\n",
    "import pandas as pd\n",
    "import plotly.express as px"
   ]
  },
  {
   "cell_type": "markdown",
   "metadata": {},
   "source": [
    "# 1. Requirement to display an image of the current CA configuration"
   ]
  },
  {
   "cell_type": "code",
   "execution_count": null,
   "metadata": {},
   "outputs": [],
   "source": [
    "import matplotlib.pyplot as plt\n",
    "import numpy as np\n",
    "\n",
    "def display_cellular_automaton(grid, cmap='viridis'):\n",
    "    \"\"\"\n",
    "    Display an image of cellular automaton at a certain time step.\n",
    "\n",
    "    Parameters:\n",
    "    - grid: 2D array representing the cellular automaton grid\n",
    "    - cmap: colormap to use (default is 'viridis')\n",
    "\n",
    "    Returns:\n",
    "    - None (displays the image)\n",
    "    \"\"\"\n",
    "    # Create a custom colormap with distinct colors for each state\n",
    "    unique_states = np.unique(grid)\n",
    "    colors = plt.cm.get_cmap(cmap, len(unique_states))\n",
    "\n",
    "    # Create a dictionary to map state values to colors\n",
    "    state_colors = {state: colors(i) for i, state in enumerate(unique_states)}\n",
    "\n",
    "    # Create an array of colors based on the grid values\n",
    "    color_array = np.vectorize(state_colors.get)(grid)\n",
    "\n",
    "    # Display the image using plt.imshow\n",
    "    plt.imshow(color_array, interpolation='nearest', cmap=cmap, origin='upper')\n",
    "\n",
    "    # Display colorbar with state labels\n",
    "    cbar = plt.colorbar(ticks=unique_states, boundaries=np.arange(len(unique_states) + 1) - 0.5)\n",
    "    cbar.set_ticklabels(unique_states)\n",
    "    cbar.set_label('Cell States')\n",
    "\n",
    "    # Show the plot\n",
    "    plt.show()\n",
    "\n",
    "# Example usage:\n",
    "# Assuming 'grid' is a 2D array representing the cellular automaton at a specific time step\n",
    "# Replace it with your actual grid data\n",
    "grid = np.random.randint(0, 3, size=(10, 10))  # Example random grid\n",
    "display_cellular_automaton(grid)\n",
    "\n"
   ]
  },
  {
   "cell_type": "markdown",
   "metadata": {},
   "source": [
    "# 2. Requirement to count the number of cells in the CA that are in a particular state\n",
    "\n",
    "idk if you will use grid argument. We'll see"
   ]
  },
  {
   "cell_type": "code",
   "execution_count": null,
   "metadata": {},
   "outputs": [],
   "source": [
    "def display_state_count(grid, state, step_number):\n",
    "    \"\"\"\n",
    "    Displays the number of individuals in a given state at a specific step.\n",
    "\n",
    "    Parameters\n",
    "    ----------\n",
    "    grid : \n",
    "        A 2D array representing the cellular automata grid.\n",
    "    state : int\n",
    "        the state to count individuals for (1: homozygous dominant, 2: heterozygous, 3: recessive)\n",
    "    step_number : int\n",
    "        the step number in the simulation.\n",
    "\n",
    "    Returns\n",
    "    -------\n",
    "    state : str\n",
    "        state to count individuals for\n",
    "    state_count : int\n",
    "        number of individuals in given state\n",
    "    \"\"\"\n",
    "\n",
    "    count = 0\n",
    "    for row in grid:\n",
    "        for cell in row:\n",
    "        if cell == state:\n",
    "            count += 1\n",
    "\n",
    "    print(f\"Step {step_number}: Number of individuals in state {state}: {count}\")\n",
    "\n",
    "# Example usage\n",
    "grid = [[0, 1, 0], [1, 0, 1], [0, 1, 0]]\n",
    "state = 1\n",
    "step_number = 10\n",
    "\n",
    "display_state_count(grid, state, step_number)\n"
   ]
  },
  {
   "cell_type": "markdown",
   "metadata": {},
   "source": [
    "# 3. Bar graph that displays allele frequency of a chosen generation"
   ]
  },
  {
   "cell_type": "code",
   "execution_count": null,
   "metadata": {},
   "outputs": [],
   "source": [
    "def plot_state_counts(step_number):\n",
    "    \"\"\"\n",
    "    This function plots the number of each individuals of each state at a given step on a bar graph.\n",
    "\n",
    "    Parameters\n",
    "    ----------\n",
    "    step_number : int\n",
    "    The step number we would like to view states for\n",
    "\n",
    "    Returns\n",
    "    -------\n",
    "    A bar graph with states and their proportion of the total population\n",
    "\n",
    "    \"\"\"\n",
    "    # open text file containing state counts.\n",
    "    # FILE NAME AND PATH WILL VARY DEPENDING ON THE SPECIFIC APPLICATION\n",
    "    with open('Data/filename.txt', 'r') as file:\n",
    "        lines = file.readlines()\n",
    "\n",
    "    # extract counts for the specified step number\n",
    "    for line in lines:\n",
    "        if line.startswith(f'Step {step_number}:'):\n",
    "            counts_line = line.strip().split(', ')\n",
    "            state1 = int(counts_line[0].split('=')[-1])\n",
    "            state2 = int(counts_line[1].split('=')[-1])\n",
    "            state3 = int(counts_line[2].split('=')[-1])\n",
    "\n",
    "            # get counts as a percentage of total population\n",
    "            total_population = GG_count + Gg_count + gg_count\n",
    "            homozygous_dominant_percentage = GG_count / total_population\n",
    "            heterozygous_percentage = GG_count / total_population\n",
    "            recessive_percentage = gg_count / total_population\n",
    "            \n",
    "            break\n",
    "    else:\n",
    "        # return an error if generation number is not found\n",
    "        print(f\"ERROR: Generation {generation_number} not found.\")\n",
    "        return\n",
    "\n",
    "    # Plot\n",
    "    labels = ['Homozygous Dominant', 'Heterozygous', 'Recessive']\n",
    "    counts = [homozygous_dominant_percentage, heterozygous_percentage, recessive_percentage]\n",
    "\n",
    "    plt.bar(labels, counts, color=['royalblue', 'mediumslateblue', 'mediumorchid'])\n",
    "    plt.title(f'Allele Percentages for Generation {generation_number}')\n",
    "    plt.xlabel('Genotype')\n",
    "    plt.ylabel('Proportion of Population')\n",
    "    plt.show()"
   ]
  },
  {
   "cell_type": "markdown",
   "metadata": {},
   "source": [
    "# 4. Filled area plot to visualize how allele frequency changes over 100 generations"
   ]
  },
  {
   "cell_type": "markdown",
   "metadata": {},
   "source": []
  }
 ],
 "metadata": {
  "language_info": {
   "name": "python"
  },
  "orig_nbformat": 4
 },
 "nbformat": 4,
 "nbformat_minor": 2
}
