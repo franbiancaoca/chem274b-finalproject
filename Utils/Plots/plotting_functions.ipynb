{
 "cells": [
  {
   "cell_type": "markdown",
   "metadata": {},
   "source": [
    "### University of California, Berkeley\n",
    "### Chem 274B: Software Engineering Fundamentals for Molecular Sciences \n",
    "### Final Project\n",
    "### Creators:  Francine Bianca Oca, Kassady Marasigan and Korede Ogundele\n",
    "### Date Created: December 5, 2023\n",
    "\n",
    "This file contains functions and plots that pertain to our allele frequency model."
   ]
  },
  {
   "cell_type": "code",
   "execution_count": 39,
   "metadata": {},
   "outputs": [],
   "source": [
    "import matplotlib.pyplot as plt\n",
    "import seaborn as sns\n",
    "import numpy as np"
   ]
  },
  {
   "cell_type": "markdown",
   "metadata": {},
   "source": [
    "## function to plot allele frequency of a current generation"
   ]
  },
  {
   "cell_type": "code",
   "execution_count": 44,
   "metadata": {},
   "outputs": [],
   "source": [
    "\n",
    "def plot_generation_counts(generation_number):\n",
    "    \"\"\"\n",
    "    This function plots the number of each individuals that have a certain genotype as a bar graph\n",
    "\n",
    "    Parameters\n",
    "    ----------\n",
    "    generation_number : int\n",
    "    The generation number whose allele frequencies we would like to look at\n",
    "\n",
    "    Returns\n",
    "    -------\n",
    "    A bar graph with ___\n",
    "\n",
    "    \"\"\"\n",
    "    # open text file containing generation counts\n",
    "    with open('Data/generation_counts.txt', 'r') as file:\n",
    "        lines = file.readlines()\n",
    "\n",
    "    # extract counts for the specified generation\n",
    "    for line in lines:\n",
    "        if line.startswith(f'Generation {generation_number}:'):\n",
    "            counts_line = line.strip().split(', ')\n",
    "            print(f\"counts_line: {counts_line}\") # just to see\n",
    "            recessive_count = int(counts_line[0].split('=')[-1])\n",
    "            dominant_count = int(counts_line[1].split('=')[-1])\n",
    "\n",
    "            # get counts as a percentage of total population\n",
    "            total_population = recessive_count + dominant_count\n",
    "            recessive_percentage = recessive_count / total_population\n",
    "            dominant_percentage = dominant_count / total_population\n",
    "            break\n",
    "    else:\n",
    "        # return an error if generation number is not found\n",
    "        print(f\"ERROR: Generation {generation_number} not found.\")\n",
    "        return\n",
    "\n",
    "    # Plot\n",
    "    labels = ['Recessive', 'Dominant']\n",
    "    counts = [recessive_percentage, dominant_percentage]\n",
    "\n",
    "    plt.bar(labels, counts, color=['lightblue', 'lightcoral'])\n",
    "    plt.title(f'Allele Percentage for Generation {generation_number}')\n",
    "    plt.xlabel('Genotype')\n",
    "    plt.ylabel('Proportion of Population')\n",
    "    plt.show()"
   ]
  },
  {
   "cell_type": "code",
   "execution_count": 45,
   "metadata": {},
   "outputs": [
    {
     "name": "stdout",
     "output_type": "stream",
     "text": [
      "counts_line: ['Generation 10: Recessive count = 82', 'Dominant count = 418']\n"
     ]
    },
    {
     "data": {
      "image/png": "[encoded data removed]",
      "text/plain": [
       "<Figure size 640x480 with 1 Axes>"
      ]
     },
     "metadata": {},
     "output_type": "display_data"
    }
   ],
   "source": [
    "# Example usage: Plot counts for Generation 10\n",
    "plot_generation_counts(10)"
   ]
  },
  {
   "cell_type": "code",
   "execution_count": 25,
   "metadata": {},
   "outputs": [
    {
     "data": {
      "text/html": [
       "<svg  width=\"550\" height=\"55\"><rect x=\"0\" y=\"0\" width=\"55\" height=\"55\" style=\"fill:#1f77b4;stroke-width:2;stroke:rgb(255,255,255)\"/><rect x=\"55\" y=\"0\" width=\"55\" height=\"55\" style=\"fill:#ff7f0e;stroke-width:2;stroke:rgb(255,255,255)\"/><rect x=\"110\" y=\"0\" width=\"55\" height=\"55\" style=\"fill:#2ca02c;stroke-width:2;stroke:rgb(255,255,255)\"/><rect x=\"165\" y=\"0\" width=\"55\" height=\"55\" style=\"fill:#d62728;stroke-width:2;stroke:rgb(255,255,255)\"/><rect x=\"220\" y=\"0\" width=\"55\" height=\"55\" style=\"fill:#9467bd;stroke-width:2;stroke:rgb(255,255,255)\"/><rect x=\"275\" y=\"0\" width=\"55\" height=\"55\" style=\"fill:#8c564b;stroke-width:2;stroke:rgb(255,255,255)\"/><rect x=\"330\" y=\"0\" width=\"55\" height=\"55\" style=\"fill:#e377c2;stroke-width:2;stroke:rgb(255,255,255)\"/><rect x=\"385\" y=\"0\" width=\"55\" height=\"55\" style=\"fill:#7f7f7f;stroke-width:2;stroke:rgb(255,255,255)\"/><rect x=\"440\" y=\"0\" width=\"55\" height=\"55\" style=\"fill:#bcbd22;stroke-width:2;stroke:rgb(255,255,255)\"/><rect x=\"495\" y=\"0\" width=\"55\" height=\"55\" style=\"fill:#17becf;stroke-width:2;stroke:rgb(255,255,255)\"/></svg>"
      ],
      "text/plain": [
       "[(0.12156862745098039, 0.4666666666666667, 0.7058823529411765),\n",
       " (1.0, 0.4980392156862745, 0.054901960784313725),\n",
       " (0.17254901960784313, 0.6274509803921569, 0.17254901960784313),\n",
       " (0.8392156862745098, 0.15294117647058825, 0.1568627450980392),\n",
       " (0.5803921568627451, 0.403921568627451, 0.7411764705882353),\n",
       " (0.5490196078431373, 0.33725490196078434, 0.29411764705882354),\n",
       " (0.8901960784313725, 0.4666666666666667, 0.7607843137254902),\n",
       " (0.4980392156862745, 0.4980392156862745, 0.4980392156862745),\n",
       " (0.7372549019607844, 0.7411764705882353, 0.13333333333333333),\n",
       " (0.09019607843137255, 0.7450980392156863, 0.8117647058823529)]"
      ]
     },
     "execution_count": 25,
     "metadata": {},
     "output_type": "execute_result"
    }
   ],
   "source": [
    "sns.color_palette()"
   ]
  },
  {
   "cell_type": "code",
   "execution_count": 26,
   "metadata": {},
   "outputs": [
    {
     "data": {
      "text/html": [
       "<svg  width=\"550\" height=\"55\"><rect x=\"0\" y=\"0\" width=\"55\" height=\"55\" style=\"fill:#a1c9f4;stroke-width:2;stroke:rgb(255,255,255)\"/><rect x=\"55\" y=\"0\" width=\"55\" height=\"55\" style=\"fill:#ffb482;stroke-width:2;stroke:rgb(255,255,255)\"/><rect x=\"110\" y=\"0\" width=\"55\" height=\"55\" style=\"fill:#8de5a1;stroke-width:2;stroke:rgb(255,255,255)\"/><rect x=\"165\" y=\"0\" width=\"55\" height=\"55\" style=\"fill:#ff9f9b;stroke-width:2;stroke:rgb(255,255,255)\"/><rect x=\"220\" y=\"0\" width=\"55\" height=\"55\" style=\"fill:#d0bbff;stroke-width:2;stroke:rgb(255,255,255)\"/><rect x=\"275\" y=\"0\" width=\"55\" height=\"55\" style=\"fill:#debb9b;stroke-width:2;stroke:rgb(255,255,255)\"/><rect x=\"330\" y=\"0\" width=\"55\" height=\"55\" style=\"fill:#fab0e4;stroke-width:2;stroke:rgb(255,255,255)\"/><rect x=\"385\" y=\"0\" width=\"55\" height=\"55\" style=\"fill:#cfcfcf;stroke-width:2;stroke:rgb(255,255,255)\"/><rect x=\"440\" y=\"0\" width=\"55\" height=\"55\" style=\"fill:#fffea3;stroke-width:2;stroke:rgb(255,255,255)\"/><rect x=\"495\" y=\"0\" width=\"55\" height=\"55\" style=\"fill:#b9f2f0;stroke-width:2;stroke:rgb(255,255,255)\"/></svg>"
      ],
      "text/plain": [
       "[(0.6313725490196078, 0.788235294117647, 0.9568627450980393),\n",
       " (1.0, 0.7058823529411765, 0.5098039215686274),\n",
       " (0.5529411764705883, 0.8980392156862745, 0.6313725490196078),\n",
       " (1.0, 0.6235294117647059, 0.6078431372549019),\n",
       " (0.8156862745098039, 0.7333333333333333, 1.0),\n",
       " (0.8705882352941177, 0.7333333333333333, 0.6078431372549019),\n",
       " (0.9803921568627451, 0.6901960784313725, 0.8941176470588236),\n",
       " (0.8117647058823529, 0.8117647058823529, 0.8117647058823529),\n",
       " (1.0, 0.996078431372549, 0.6392156862745098),\n",
       " (0.7254901960784313, 0.9490196078431372, 0.9411764705882353)]"
      ]
     },
     "execution_count": 26,
     "metadata": {},
     "output_type": "execute_result"
    }
   ],
   "source": [
    "sns.color_palette(\"pastel\")"
   ]
  },
  {
   "cell_type": "markdown",
   "metadata": {},
   "source": [
    "## function to simulate generations"
   ]
  },
  {
   "cell_type": "code",
   "execution_count": 47,
   "metadata": {},
   "outputs": [],
   "source": [
    "num_generations = 100\n",
    "population_size = 500\n",
    "initial_recessive_frequency = 0.2\n",
    "reproduction_rate = 1\n",
    "\n",
    "def simulate_generations(num_generations, population_size, initial_recessive_frequency, reproduction_rate):\n",
    "    \"\"\"\n",
    "    Simulate changes in allele frequency through multiple generations.\n",
    "    \"\"\"\n",
    "    allele_frequencies = []\n",
    "    population = initialize_population(population_size, initial_recessive_frequency)\n",
    "\n",
    "    for generation in range(num_generations):\n",
    "        # Reproduction\n",
    "        new_population = reproduce(population, reproduction_rate)\n",
    "\n",
    "        # Calculate allele frequencies\n",
    "        recessive_count = np.count_nonzero(new_population == 0)\n",
    "        dominant_count = np.count_nonzero(new_population == 1)\n",
    "        recessive_frequency = recessive_count / population_size\n",
    "\n",
    "        # Record allele frequencies for the current generation\n",
    "        allele_frequencies.append(recessive_frequency)\n",
    "\n",
    "        # Update the population for the next generation\n",
    "        population = new_population\n",
    "\n",
    "    return allele_frequencies\n",
    "\n",
    "def plot_simulation(allele_frequencies):\n",
    "    \"\"\"\n",
    "    Plot the allele frequency changes over generations.\n",
    "    \"\"\"\n",
    "    generations = range(len(allele_frequencies))\n",
    "    plt.plot(generations, allele_frequencies, marker='o')\n",
    "    plt.xlabel('Generation')\n",
    "    plt.ylabel('Recessive Allele Frequency')\n",
    "    plt.title('Simulation of Allele Frequency Changes')\n",
    "    plt.show()"
   ]
  },
  {
   "cell_type": "code",
   "execution_count": 56,
   "metadata": {},
   "outputs": [],
   "source": [
    "# open text file containing generation counts\n",
    "with open('Data/generation_counts.txt', 'r') as file:\n",
    "    generation_info = file.readlines()\n",
    "\n",
    "# get all dominant and recessive counts\n",
    "def extract_counts_for_all_generations(lines):\n",
    "    recessive_counts = []\n",
    "    dominant_counts = []\n",
    "\n",
    "    for line in lines:\n",
    "        if line.startswith('Generation'):\n",
    "            counts_line = line.strip().split(', ')\n",
    "            recessive_count = int(counts_line[0].split('=')[-1])\n",
    "            dominant_count = int(counts_line[1].split('=')[-1])\n",
    "\n",
    "            recessive_counts.append(recessive_count)\n",
    "            dominant_counts.append(dominant_count)\n",
    "\n",
    "    return recessive_counts, dominant_counts"
   ]
  },
  {
   "cell_type": "code",
   "execution_count": 58,
   "metadata": {},
   "outputs": [
    {
     "ename": "AttributeError",
     "evalue": "'list' object has no attribute 'split'",
     "output_type": "error",
     "traceback": [
      "\u001b[0;31m---------------------------------------------------------------------------\u001b[0m",
      "\u001b[0;31mAttributeError\u001b[0m                            Traceback (most recent call last)",
      "Cell \u001b[0;32mIn[58], line 3\u001b[0m\n\u001b[1;32m      1\u001b[0m \u001b[39m# Example usage:\u001b[39;00m\n\u001b[0;32m----> 3\u001b[0m lines \u001b[39m=\u001b[39m generation_info\u001b[39m.\u001b[39;49msplit(\u001b[39m'\u001b[39m\u001b[39m\\n\u001b[39;00m\u001b[39m'\u001b[39m)\n\u001b[1;32m      4\u001b[0m recessive_counts, dominant_counts \u001b[39m=\u001b[39m extract_counts_for_all_generations(generation_info)\n\u001b[1;32m      6\u001b[0m \u001b[39m# Now, recessive_counts and dominant_counts contain counts for all generations\u001b[39;00m\n",
      "\u001b[0;31mAttributeError\u001b[0m: 'list' object has no attribute 'split'"
     ]
    }
   ],
   "source": [
    "# Example usage:\n",
    "\n",
    "lines = generation_info.split('\\n')\n",
    "recessive_counts, dominant_counts = extract_counts_for_all_generations(generation_info)\n",
    "\n",
    "# Now, recessive_counts and dominant_counts contain counts for all generations\n",
    "print(f\"Recessive counts for all generations: {recessive_counts}\")\n",
    "print(f\"Dominant counts for all generations: {dominant_counts}\")"
   ]
  },
  {
   "cell_type": "code",
   "execution_count": 54,
   "metadata": {},
   "outputs": [
    {
     "data": {
      "text/plain": [
       "'Generation 0: Recessive count = 320, Dominant count = 180\\nGeneration 1: Recessive count = 281, Dominant count = 219\\nGeneration 2: Recessive count = 261, Dominant count = 239\\nGeneration 3: Recessive count = 204, Dominant count = 296\\nGeneration 4: Recessive count = 167, Dominant count = 333\\nGeneration 5: Recessive count = 136, Dominant count = 364\\nGeneration 6: Recessive count = 112, Dominant count = 388\\nGeneration 7: Recessive count = 99, Dominant count = 401\\nGeneration 8: Recessive count = 101, Dominant count = 399\\nGeneration 9: Recessive count = 88, Dominant count = 412\\nGeneration 10: Recessive count = 82, Dominant count = 418\\nGeneration 11: Recessive count = 74, Dominant count = 426\\nGeneration 12: Recessive count = 58, Dominant count = 442\\nGeneration 13: Recessive count = 54, Dominant count = 446\\nGeneration 14: Recessive count = 49, Dominant count = 451\\nGeneration 15: Recessive count = 44, Dominant count = 456\\nGeneration 16: Recessive count = 37, Dominant count = 463\\nGeneration 17: Recessive count = 29, Dominant count = 471\\nGeneration 18: Recessive count = 24, Dominant count = 476\\nGeneration 19: Recessive count = 22, Dominant count = 478\\nGeneration 20: Recessive count = 18, Dominant count = 482\\nGeneration 21: Recessive count = 16, Dominant count = 484\\nGeneration 22: Recessive count = 12, Dominant count = 488\\nGeneration 23: Recessive count = 9, Dominant count = 491\\nGeneration 24: Recessive count = 7, Dominant count = 493\\nGeneration 25: Recessive count = 7, Dominant count = 493\\nGeneration 26: Recessive count = 7, Dominant count = 493\\nGeneration 27: Recessive count = 7, Dominant count = 493\\nGeneration 28: Recessive count = 9, Dominant count = 491\\nGeneration 29: Recessive count = 7, Dominant count = 493\\nGeneration 30: Recessive count = 8, Dominant count = 492\\nGeneration 31: Recessive count = 6, Dominant count = 494\\nGeneration 32: Recessive count = 5, Dominant count = 495\\nGeneration 33: Recessive count = 4, Dominant count = 496\\nGeneration 34: Recessive count = 1, Dominant count = 499\\nGeneration 35: Recessive count = 2, Dominant count = 498\\nGeneration 36: Recessive count = 2, Dominant count = 498\\nGeneration 37: Recessive count = 1, Dominant count = 499\\nGeneration 38: Recessive count = 2, Dominant count = 498\\nGeneration 39: Recessive count = 2, Dominant count = 498\\nGeneration 40: Recessive count = 3, Dominant count = 497\\nGeneration 41: Recessive count = 1, Dominant count = 499\\nGeneration 42: Recessive count = 1, Dominant count = 499\\nGeneration 43: Recessive count = 0, Dominant count = 500\\nGeneration 44: Recessive count = 0, Dominant count = 500\\nGeneration 45: Recessive count = 0, Dominant count = 500\\nGeneration 46: Recessive count = 0, Dominant count = 500\\nGeneration 47: Recessive count = 0, Dominant count = 500\\nGeneration 48: Recessive count = 0, Dominant count = 500\\nGeneration 49: Recessive count = 0, Dominant count = 500\\nGeneration 50: Recessive count = 0, Dominant count = 500\\nGeneration 51: Recessive count = 0, Dominant count = 500\\nGeneration 52: Recessive count = 0, Dominant count = 500\\nGeneration 53: Recessive count = 0, Dominant count = 500\\nGeneration 54: Recessive count = 0, Dominant count = 500\\nGeneration 55: Recessive count = 0, Dominant count = 500\\nGeneration 56: Recessive count = 0, Dominant count = 500\\nGeneration 57: Recessive count = 0, Dominant count = 500\\nGeneration 58: Recessive count = 0, Dominant count = 500\\nGeneration 59: Recessive count = 0, Dominant count = 500\\nGeneration 60: Recessive count = 0, Dominant count = 500\\nGeneration 61: Recessive count = 0, Dominant count = 500\\nGeneration 62: Recessive count = 0, Dominant count = 500\\nGeneration 63: Recessive count = 0, Dominant count = 500\\nGeneration 64: Recessive count = 0, Dominant count = 500\\nGeneration 65: Recessive count = 0, Dominant count = 500\\nGeneration 66: Recessive count = 0, Dominant count = 500\\nGeneration 67: Recessive count = 0, Dominant count = 500\\nGeneration 68: Recessive count = 0, Dominant count = 500\\nGeneration 69: Recessive count = 0, Dominant count = 500\\nGeneration 70: Recessive count = 0, Dominant count = 500\\nGeneration 71: Recessive count = 0, Dominant count = 500\\nGeneration 72: Recessive count = 0, Dominant count = 500\\nGeneration 73: Recessive count = 0, Dominant count = 500\\nGeneration 74: Recessive count = 0, Dominant count = 500\\nGeneration 75: Recessive count = 0, Dominant count = 500\\nGeneration 76: Recessive count = 0, Dominant count = 500\\nGeneration 77: Recessive count = 0, Dominant count = 500\\nGeneration 78: Recessive count = 0, Dominant count = 500\\nGeneration 79: Recessive count = 0, Dominant count = 500\\nGeneration 80: Recessive count = 0, Dominant count = 500\\nGeneration 81: Recessive count = 0, Dominant count = 500\\nGeneration 82: Recessive count = 0, Dominant count = 500\\nGeneration 83: Recessive count = 0, Dominant count = 500\\nGeneration 84: Recessive count = 0, Dominant count = 500\\nGeneration 85: Recessive count = 0, Dominant count = 500\\nGeneration 86: Recessive count = 0, Dominant count = 500\\nGeneration 87: Recessive count = 0, Dominant count = 500\\nGeneration 88: Recessive count = 0, Dominant count = 500\\nGeneration 89: Recessive count = 0, Dominant count = 500\\nGeneration 90: Recessive count = 0, Dominant count = 500\\nGeneration 91: Recessive count = 0, Dominant count = 500\\nGeneration 92: Recessive count = 0, Dominant count = 500\\nGeneration 93: Recessive count = 0, Dominant count = 500\\nGeneration 94: Recessive count = 0, Dominant count = 500\\nGeneration 95: Recessive count = 0, Dominant count = 500\\nGeneration 96: Recessive count = 0, Dominant count = 500\\nGeneration 97: Recessive count = 0, Dominant count = 500\\nGeneration 98: Recessive count = 0, Dominant count = 500\\nGeneration 99: Recessive count = 0, Dominant count = 500\\n'"
      ]
     },
     "execution_count": 54,
     "metadata": {},
     "output_type": "execute_result"
    }
   ],
   "source": [
    "contents"
   ]
  },
  {
   "cell_type": "code",
   "execution_count": null,
   "metadata": {},
   "outputs": [],
   "source": []
  }
 ],
 "metadata": {
  "kernelspec": {
   "display_name": "msse-python",
   "language": "python",
   "name": "python3"
  },
  "language_info": {
   "codemirror_mode": {
    "name": "ipython",
    "version": 3
   },
   "file_extension": ".py",
   "mimetype": "text/x-python",
   "name": "python",
   "nbconvert_exporter": "python",
   "pygments_lexer": "ipython3",
   "version": "3.11.4"
  },
  "orig_nbformat": 4
 },
 "nbformat": 4,
 "nbformat_minor": 2
}
