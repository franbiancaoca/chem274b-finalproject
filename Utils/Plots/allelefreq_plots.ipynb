{
 "cells": [
  {
   "cell_type": "markdown",
   "metadata": {},
   "source": [
    "## University of California, Berkeley\n",
    "## Chem 274B: Software Engineering Fundamentals for Molecular Sciences Final Project\n",
    "### Creators:  Francine Bianca Oca, Kassady Marasigan and Korede Ogundele\n",
    "### Date Created: December 5, 2023\n",
    "\n",
    "This file contains functions and plots that pertain to our allele frequency model."
   ]
  },
  {
   "cell_type": "code",
   "execution_count": 37,
   "metadata": {},
   "outputs": [],
   "source": [
    "import matplotlib.pyplot as plt\n",
    "import numpy as np\n",
    "import pandas as pd\n",
    "import plotly.express as px"
   ]
  },
  {
   "cell_type": "markdown",
   "metadata": {},
   "source": [
    "# Output 1: Display an image of the current CA configuration"
   ]
  },
  {
   "cell_type": "code",
   "execution_count": 40,
   "metadata": {},
   "outputs": [
    {
     "ename": "TypeError",
     "evalue": "unhashable type: 'list'",
     "output_type": "error",
     "traceback": [
      "\u001b[0;31m---------------------------------------------------------------------------\u001b[0m",
      "\u001b[0;31mTypeError\u001b[0m                                 Traceback (most recent call last)",
      "Cell \u001b[0;32mIn[40], line 42\u001b[0m\n\u001b[1;32m     39\u001b[0m time_step \u001b[39m=\u001b[39m \u001b[39m5\u001b[39m  \u001b[39m# Time step to display\u001b[39;00m\n\u001b[1;32m     40\u001b[0m color_map \u001b[39m=\u001b[39m {\u001b[39m1\u001b[39m: \u001b[39m\"\u001b[39m\u001b[39mred\u001b[39m\u001b[39m\"\u001b[39m, \u001b[39m0\u001b[39m: \u001b[39m\"\u001b[39m\u001b[39mgreen\u001b[39m\u001b[39m\"\u001b[39m, \u001b[39m2\u001b[39m: \u001b[39m\"\u001b[39m\u001b[39mblue\u001b[39m\u001b[39m\"\u001b[39m}  \u001b[39m# Mapping states to colors\u001b[39;00m\n\u001b[0;32m---> 42\u001b[0m display_ca_image(states, cell_size, time_step, color_map)\n",
      "Cell \u001b[0;32mIn[40], line 22\u001b[0m, in \u001b[0;36mdisplay_ca_image\u001b[0;34m(states, cell_size, time_step, color_map)\u001b[0m\n\u001b[1;32m     19\u001b[0m   \u001b[39mraise\u001b[39;00m \u001b[39mValueError\u001b[39;00m(\u001b[39m\"\u001b[39m\u001b[39mMissing color map for cell states.\u001b[39m\u001b[39m\"\u001b[39m)\n\u001b[1;32m     21\u001b[0m \u001b[39m# Convert cell states to color values\u001b[39;00m\n\u001b[0;32m---> 22\u001b[0m colors \u001b[39m=\u001b[39m [color_map[state] \u001b[39mfor\u001b[39;49;00m state \u001b[39min\u001b[39;49;00m states]\n\u001b[1;32m     24\u001b[0m \u001b[39m# Create image data from colors\u001b[39;00m\n\u001b[1;32m     25\u001b[0m image_data \u001b[39m=\u001b[39m np\u001b[39m.\u001b[39marray(colors)\u001b[39m.\u001b[39mreshape((\u001b[39mlen\u001b[39m(states), \u001b[39mlen\u001b[39m(states[\u001b[39m0\u001b[39m]), \u001b[39m3\u001b[39m))\n",
      "Cell \u001b[0;32mIn[40], line 22\u001b[0m, in \u001b[0;36m<listcomp>\u001b[0;34m(.0)\u001b[0m\n\u001b[1;32m     19\u001b[0m   \u001b[39mraise\u001b[39;00m \u001b[39mValueError\u001b[39;00m(\u001b[39m\"\u001b[39m\u001b[39mMissing color map for cell states.\u001b[39m\u001b[39m\"\u001b[39m)\n\u001b[1;32m     21\u001b[0m \u001b[39m# Convert cell states to color values\u001b[39;00m\n\u001b[0;32m---> 22\u001b[0m colors \u001b[39m=\u001b[39m [color_map[state] \u001b[39mfor\u001b[39;00m state \u001b[39min\u001b[39;00m states]\n\u001b[1;32m     24\u001b[0m \u001b[39m# Create image data from colors\u001b[39;00m\n\u001b[1;32m     25\u001b[0m image_data \u001b[39m=\u001b[39m np\u001b[39m.\u001b[39marray(colors)\u001b[39m.\u001b[39mreshape((\u001b[39mlen\u001b[39m(states), \u001b[39mlen\u001b[39m(states[\u001b[39m0\u001b[39m]), \u001b[39m3\u001b[39m))\n",
      "\u001b[0;31mTypeError\u001b[0m: unhashable type: 'list'"
     ]
    }
   ],
   "source": [
    "import matplotlib.pyplot as plt\n",
    "\n",
    "def display_ca_image(states, cell_size, time_step, color_map):\n",
    "  \"\"\"\n",
    "  Displays an image of a cellular automata state at a specific time step.\n",
    "\n",
    "  Args:\n",
    "    states: A list of lists representing the cellular automata state, where each element is the state of a cell (integer).\n",
    "    cell_size: The size of each cell in the image (pixels).\n",
    "    time_step: The time step of the state to display.\n",
    "    color_map: A dictionary mapping cell states to RGB color values.\n",
    "\n",
    "  Returns:\n",
    "    None (displays the image directly).\n",
    "  \"\"\"\n",
    "\n",
    "  # Check if color map is provided\n",
    "  if not color_map:\n",
    "    raise ValueError(\"Missing color map for cell states.\")\n",
    "\n",
    "  # Convert cell states to color values\n",
    "  colors = [color_map[state] for state in states]\n",
    "\n",
    "  # Create image data from colors\n",
    "  image_data = np.array(colors).reshape((len(states), len(states[0]), 3))\n",
    "\n",
    "  # Set figure size based on cell size\n",
    "  plt.figure(figsize=(len(states) * cell_size / 100, len(states[0]) * cell_size / 100))\n",
    "\n",
    "  # Display the image with no axes and no title\n",
    "  plt.imshow(image_data, interpolation=\"nearest\", aspect=\"auto\", cmap=\"cividis\")\n",
    "  plt.axis('off')\n",
    "  plt.title(f\"Time Step: {time_step}\")\n",
    "  plt.show()\n",
    "\n",
    "# Example usage\n",
    "states = [[1, 0, 1], [0, 1, 0], [1, 0, 1]]  # Dummy cell states data\n",
    "cell_size = 10  # Pixel size for each cell\n",
    "time_step = 5  # Time step to display\n",
    "color_map = {1: \"red\", 0: \"green\", 2: \"blue\"}  # Mapping states to colors\n",
    "\n",
    "display_ca_image(states, cell_size, time_step, color_map)\n"
   ]
  },
  {
   "cell_type": "code",
   "execution_count": 52,
   "metadata": {},
   "outputs": [],
   "source": [
    "def display_cellular_automaton(generation_number, cmap= 'viridis'):\n",
    "    \"\"\"\n",
    "    Display an image of the population at a certain generation\n",
    "\n",
    "    Parameters\n",
    "    ----------\n",
    "    cmap (optional) : str\n",
    "        colormap to use (default is 'viridis')\n",
    "\n",
    "    Returns\n",
    "    -------\n",
    "    None (displays the image)\n",
    "    \"\"\"\n",
    "    # Open text file containing generation counts\n",
    "    with open('Data/simulation_output.txt', 'r') as file:\n",
    "        output_lines = file.readlines()\n",
    "\n",
    "    # Find index of the line that starts with 'Generation {generation_number}:'\n",
    "    start_index = None\n",
    "    for i, line in enumerate(output_lines):\n",
    "        if line.startswith(f'Generation {generation_number}:'):\n",
    "            start_index = i + 1  # skip the line with the generation name\n",
    "            break\n",
    "\n",
    "    # If the generation is not found, print an error message\n",
    "    if start_index is None:\n",
    "        print(f'ERROR: Generation {generation_number} does not exist') \n",
    "\n",
    "    # Extract lines for desired generation\n",
    "    generation_lines = output_lines[start_index:start_index + 10]  # each generation has 10 lines\n",
    "\n",
    "    # Flatten the generation lines into a single string and split by space\n",
    "    grid = ' '.join(generation_lines).split()\n",
    "\n",
    "    # Create a custom colormap with distinct colors for each state\n",
    "    unique_states = np.unique(grid)\n",
    "    colors = plt.cm.get_cmap(cmap, len(unique_states))\n",
    "\n",
    "    # Create a dictionary to map state values to colors\n",
    "    state_colors = {state: colors(i) for i, state in enumerate(unique_states)}\n",
    "\n",
    "    # Create an array of colors based on the grid values\n",
    "    color_array = np.vectorize(state_colors.get)(grid)\n",
    "\n",
    "    # Display the image using plt.imshow\n",
    "    plt.imshow(color_array, interpolation='nearest', cmap=cmap, origin='upper')\n",
    "\n",
    "    # Display colorbar with state labels\n",
    "    cbar = plt.colorbar(ticks= unique_states, boundaries= np.arange(len(unique_states) + 1) - 0.5)\n",
    "    cbar.set_ticklabels(unique_states)\n",
    "    cbar.set_label('Cell States')\n",
    "\n",
    "    # Show the plot\n",
    "    plt.show()"
   ]
  },
  {
   "cell_type": "code",
   "execution_count": 53,
   "metadata": {},
   "outputs": [
    {
     "name": "stderr",
     "output_type": "stream",
     "text": [
      "/var/folders/m8/skfw9g2x4_g4pq5cv80_g24w0000gn/T/ipykernel_3448/4267324112.py:37: MatplotlibDeprecationWarning:\n",
      "\n",
      "The get_cmap function was deprecated in Matplotlib 3.7 and will be removed two minor releases later. Use ``matplotlib.colormaps[name]`` or ``matplotlib.colormaps.get_cmap(obj)`` instead.\n",
      "\n"
     ]
    },
    {
     "ename": "TypeError",
     "evalue": "Cannot cast array data from dtype('<U1') to dtype('float64') according to the rule 'safe'",
     "output_type": "error",
     "traceback": [
      "\u001b[0;31m---------------------------------------------------------------------------\u001b[0m",
      "\u001b[0;31mTypeError\u001b[0m                                 Traceback (most recent call last)",
      "File \u001b[0;32m~/miniconda3/envs/msse-python/lib/python3.11/site-packages/IPython/core/formatters.py:340\u001b[0m, in \u001b[0;36mBaseFormatter.__call__\u001b[0;34m(self, obj)\u001b[0m\n\u001b[1;32m    338\u001b[0m     \u001b[39mpass\u001b[39;00m\n\u001b[1;32m    339\u001b[0m \u001b[39melse\u001b[39;00m:\n\u001b[0;32m--> 340\u001b[0m     \u001b[39mreturn\u001b[39;00m printer(obj)\n\u001b[1;32m    341\u001b[0m \u001b[39m# Finally look for special method names\u001b[39;00m\n\u001b[1;32m    342\u001b[0m method \u001b[39m=\u001b[39m get_real_method(obj, \u001b[39mself\u001b[39m\u001b[39m.\u001b[39mprint_method)\n",
      "File \u001b[0;32m~/miniconda3/envs/msse-python/lib/python3.11/site-packages/IPython/core/pylabtools.py:152\u001b[0m, in \u001b[0;36mprint_figure\u001b[0;34m(fig, fmt, bbox_inches, base64, **kwargs)\u001b[0m\n\u001b[1;32m    149\u001b[0m     \u001b[39mfrom\u001b[39;00m \u001b[39mmatplotlib\u001b[39;00m\u001b[39m.\u001b[39;00m\u001b[39mbackend_bases\u001b[39;00m \u001b[39mimport\u001b[39;00m FigureCanvasBase\n\u001b[1;32m    150\u001b[0m     FigureCanvasBase(fig)\n\u001b[0;32m--> 152\u001b[0m fig\u001b[39m.\u001b[39;49mcanvas\u001b[39m.\u001b[39;49mprint_figure(bytes_io, \u001b[39m*\u001b[39;49m\u001b[39m*\u001b[39;49mkw)\n\u001b[1;32m    153\u001b[0m data \u001b[39m=\u001b[39m bytes_io\u001b[39m.\u001b[39mgetvalue()\n\u001b[1;32m    154\u001b[0m \u001b[39mif\u001b[39;00m fmt \u001b[39m==\u001b[39m \u001b[39m'\u001b[39m\u001b[39msvg\u001b[39m\u001b[39m'\u001b[39m:\n",
      "File \u001b[0;32m~/miniconda3/envs/msse-python/lib/python3.11/site-packages/matplotlib/backend_bases.py:2342\u001b[0m, in \u001b[0;36mFigureCanvasBase.print_figure\u001b[0;34m(self, filename, dpi, facecolor, edgecolor, orientation, format, bbox_inches, pad_inches, bbox_extra_artists, backend, **kwargs)\u001b[0m\n\u001b[1;32m   2336\u001b[0m     renderer \u001b[39m=\u001b[39m _get_renderer(\n\u001b[1;32m   2337\u001b[0m         \u001b[39mself\u001b[39m\u001b[39m.\u001b[39mfigure,\n\u001b[1;32m   2338\u001b[0m         functools\u001b[39m.\u001b[39mpartial(\n\u001b[1;32m   2339\u001b[0m             print_method, orientation\u001b[39m=\u001b[39morientation)\n\u001b[1;32m   2340\u001b[0m     )\n\u001b[1;32m   2341\u001b[0m     \u001b[39mwith\u001b[39;00m \u001b[39mgetattr\u001b[39m(renderer, \u001b[39m\"\u001b[39m\u001b[39m_draw_disabled\u001b[39m\u001b[39m\"\u001b[39m, nullcontext)():\n\u001b[0;32m-> 2342\u001b[0m         \u001b[39mself\u001b[39;49m\u001b[39m.\u001b[39;49mfigure\u001b[39m.\u001b[39;49mdraw(renderer)\n\u001b[1;32m   2344\u001b[0m \u001b[39mif\u001b[39;00m bbox_inches:\n\u001b[1;32m   2345\u001b[0m     \u001b[39mif\u001b[39;00m bbox_inches \u001b[39m==\u001b[39m \u001b[39m\"\u001b[39m\u001b[39mtight\u001b[39m\u001b[39m\"\u001b[39m:\n",
      "File \u001b[0;32m~/miniconda3/envs/msse-python/lib/python3.11/site-packages/matplotlib/artist.py:95\u001b[0m, in \u001b[0;36m_finalize_rasterization.<locals>.draw_wrapper\u001b[0;34m(artist, renderer, *args, **kwargs)\u001b[0m\n\u001b[1;32m     93\u001b[0m \u001b[39m@wraps\u001b[39m(draw)\n\u001b[1;32m     94\u001b[0m \u001b[39mdef\u001b[39;00m \u001b[39mdraw_wrapper\u001b[39m(artist, renderer, \u001b[39m*\u001b[39margs, \u001b[39m*\u001b[39m\u001b[39m*\u001b[39mkwargs):\n\u001b[0;32m---> 95\u001b[0m     result \u001b[39m=\u001b[39m draw(artist, renderer, \u001b[39m*\u001b[39;49margs, \u001b[39m*\u001b[39;49m\u001b[39m*\u001b[39;49mkwargs)\n\u001b[1;32m     96\u001b[0m     \u001b[39mif\u001b[39;00m renderer\u001b[39m.\u001b[39m_rasterizing:\n\u001b[1;32m     97\u001b[0m         renderer\u001b[39m.\u001b[39mstop_rasterizing()\n",
      "File \u001b[0;32m~/miniconda3/envs/msse-python/lib/python3.11/site-packages/matplotlib/artist.py:72\u001b[0m, in \u001b[0;36mallow_rasterization.<locals>.draw_wrapper\u001b[0;34m(artist, renderer)\u001b[0m\n\u001b[1;32m     69\u001b[0m     \u001b[39mif\u001b[39;00m artist\u001b[39m.\u001b[39mget_agg_filter() \u001b[39mis\u001b[39;00m \u001b[39mnot\u001b[39;00m \u001b[39mNone\u001b[39;00m:\n\u001b[1;32m     70\u001b[0m         renderer\u001b[39m.\u001b[39mstart_filter()\n\u001b[0;32m---> 72\u001b[0m     \u001b[39mreturn\u001b[39;00m draw(artist, renderer)\n\u001b[1;32m     73\u001b[0m \u001b[39mfinally\u001b[39;00m:\n\u001b[1;32m     74\u001b[0m     \u001b[39mif\u001b[39;00m artist\u001b[39m.\u001b[39mget_agg_filter() \u001b[39mis\u001b[39;00m \u001b[39mnot\u001b[39;00m \u001b[39mNone\u001b[39;00m:\n",
      "File \u001b[0;32m~/miniconda3/envs/msse-python/lib/python3.11/site-packages/matplotlib/figure.py:3140\u001b[0m, in \u001b[0;36mFigure.draw\u001b[0;34m(self, renderer)\u001b[0m\n\u001b[1;32m   3137\u001b[0m         \u001b[39m# ValueError can occur when resizing a window.\u001b[39;00m\n\u001b[1;32m   3139\u001b[0m \u001b[39mself\u001b[39m\u001b[39m.\u001b[39mpatch\u001b[39m.\u001b[39mdraw(renderer)\n\u001b[0;32m-> 3140\u001b[0m mimage\u001b[39m.\u001b[39;49m_draw_list_compositing_images(\n\u001b[1;32m   3141\u001b[0m     renderer, \u001b[39mself\u001b[39;49m, artists, \u001b[39mself\u001b[39;49m\u001b[39m.\u001b[39;49msuppressComposite)\n\u001b[1;32m   3143\u001b[0m \u001b[39mfor\u001b[39;00m sfig \u001b[39min\u001b[39;00m \u001b[39mself\u001b[39m\u001b[39m.\u001b[39msubfigs:\n\u001b[1;32m   3144\u001b[0m     sfig\u001b[39m.\u001b[39mdraw(renderer)\n",
      "File \u001b[0;32m~/miniconda3/envs/msse-python/lib/python3.11/site-packages/matplotlib/image.py:131\u001b[0m, in \u001b[0;36m_draw_list_compositing_images\u001b[0;34m(renderer, parent, artists, suppress_composite)\u001b[0m\n\u001b[1;32m    129\u001b[0m \u001b[39mif\u001b[39;00m not_composite \u001b[39mor\u001b[39;00m \u001b[39mnot\u001b[39;00m has_images:\n\u001b[1;32m    130\u001b[0m     \u001b[39mfor\u001b[39;00m a \u001b[39min\u001b[39;00m artists:\n\u001b[0;32m--> 131\u001b[0m         a\u001b[39m.\u001b[39;49mdraw(renderer)\n\u001b[1;32m    132\u001b[0m \u001b[39melse\u001b[39;00m:\n\u001b[1;32m    133\u001b[0m     \u001b[39m# Composite any adjacent images together\u001b[39;00m\n\u001b[1;32m    134\u001b[0m     image_group \u001b[39m=\u001b[39m []\n",
      "File \u001b[0;32m~/miniconda3/envs/msse-python/lib/python3.11/site-packages/matplotlib/artist.py:72\u001b[0m, in \u001b[0;36mallow_rasterization.<locals>.draw_wrapper\u001b[0;34m(artist, renderer)\u001b[0m\n\u001b[1;32m     69\u001b[0m     \u001b[39mif\u001b[39;00m artist\u001b[39m.\u001b[39mget_agg_filter() \u001b[39mis\u001b[39;00m \u001b[39mnot\u001b[39;00m \u001b[39mNone\u001b[39;00m:\n\u001b[1;32m     70\u001b[0m         renderer\u001b[39m.\u001b[39mstart_filter()\n\u001b[0;32m---> 72\u001b[0m     \u001b[39mreturn\u001b[39;00m draw(artist, renderer)\n\u001b[1;32m     73\u001b[0m \u001b[39mfinally\u001b[39;00m:\n\u001b[1;32m     74\u001b[0m     \u001b[39mif\u001b[39;00m artist\u001b[39m.\u001b[39mget_agg_filter() \u001b[39mis\u001b[39;00m \u001b[39mnot\u001b[39;00m \u001b[39mNone\u001b[39;00m:\n",
      "File \u001b[0;32m~/miniconda3/envs/msse-python/lib/python3.11/site-packages/matplotlib/axes/_base.py:3064\u001b[0m, in \u001b[0;36m_AxesBase.draw\u001b[0;34m(self, renderer)\u001b[0m\n\u001b[1;32m   3061\u001b[0m \u001b[39mif\u001b[39;00m artists_rasterized:\n\u001b[1;32m   3062\u001b[0m     _draw_rasterized(\u001b[39mself\u001b[39m\u001b[39m.\u001b[39mfigure, artists_rasterized, renderer)\n\u001b[0;32m-> 3064\u001b[0m mimage\u001b[39m.\u001b[39;49m_draw_list_compositing_images(\n\u001b[1;32m   3065\u001b[0m     renderer, \u001b[39mself\u001b[39;49m, artists, \u001b[39mself\u001b[39;49m\u001b[39m.\u001b[39;49mfigure\u001b[39m.\u001b[39;49msuppressComposite)\n\u001b[1;32m   3067\u001b[0m renderer\u001b[39m.\u001b[39mclose_group(\u001b[39m'\u001b[39m\u001b[39maxes\u001b[39m\u001b[39m'\u001b[39m)\n\u001b[1;32m   3068\u001b[0m \u001b[39mself\u001b[39m\u001b[39m.\u001b[39mstale \u001b[39m=\u001b[39m \u001b[39mFalse\u001b[39;00m\n",
      "File \u001b[0;32m~/miniconda3/envs/msse-python/lib/python3.11/site-packages/matplotlib/image.py:131\u001b[0m, in \u001b[0;36m_draw_list_compositing_images\u001b[0;34m(renderer, parent, artists, suppress_composite)\u001b[0m\n\u001b[1;32m    129\u001b[0m \u001b[39mif\u001b[39;00m not_composite \u001b[39mor\u001b[39;00m \u001b[39mnot\u001b[39;00m has_images:\n\u001b[1;32m    130\u001b[0m     \u001b[39mfor\u001b[39;00m a \u001b[39min\u001b[39;00m artists:\n\u001b[0;32m--> 131\u001b[0m         a\u001b[39m.\u001b[39;49mdraw(renderer)\n\u001b[1;32m    132\u001b[0m \u001b[39melse\u001b[39;00m:\n\u001b[1;32m    133\u001b[0m     \u001b[39m# Composite any adjacent images together\u001b[39;00m\n\u001b[1;32m    134\u001b[0m     image_group \u001b[39m=\u001b[39m []\n",
      "File \u001b[0;32m~/miniconda3/envs/msse-python/lib/python3.11/site-packages/matplotlib/artist.py:72\u001b[0m, in \u001b[0;36mallow_rasterization.<locals>.draw_wrapper\u001b[0;34m(artist, renderer)\u001b[0m\n\u001b[1;32m     69\u001b[0m     \u001b[39mif\u001b[39;00m artist\u001b[39m.\u001b[39mget_agg_filter() \u001b[39mis\u001b[39;00m \u001b[39mnot\u001b[39;00m \u001b[39mNone\u001b[39;00m:\n\u001b[1;32m     70\u001b[0m         renderer\u001b[39m.\u001b[39mstart_filter()\n\u001b[0;32m---> 72\u001b[0m     \u001b[39mreturn\u001b[39;00m draw(artist, renderer)\n\u001b[1;32m     73\u001b[0m \u001b[39mfinally\u001b[39;00m:\n\u001b[1;32m     74\u001b[0m     \u001b[39mif\u001b[39;00m artist\u001b[39m.\u001b[39mget_agg_filter() \u001b[39mis\u001b[39;00m \u001b[39mnot\u001b[39;00m \u001b[39mNone\u001b[39;00m:\n",
      "File \u001b[0;32m~/miniconda3/envs/msse-python/lib/python3.11/site-packages/matplotlib/axis.py:1376\u001b[0m, in \u001b[0;36mAxis.draw\u001b[0;34m(self, renderer, *args, **kwargs)\u001b[0m\n\u001b[1;32m   1373\u001b[0m     \u001b[39mreturn\u001b[39;00m\n\u001b[1;32m   1374\u001b[0m renderer\u001b[39m.\u001b[39mopen_group(\u001b[39m__name__\u001b[39m, gid\u001b[39m=\u001b[39m\u001b[39mself\u001b[39m\u001b[39m.\u001b[39mget_gid())\n\u001b[0;32m-> 1376\u001b[0m ticks_to_draw \u001b[39m=\u001b[39m \u001b[39mself\u001b[39;49m\u001b[39m.\u001b[39;49m_update_ticks()\n\u001b[1;32m   1377\u001b[0m tlb1, tlb2 \u001b[39m=\u001b[39m \u001b[39mself\u001b[39m\u001b[39m.\u001b[39m_get_ticklabel_bboxes(ticks_to_draw, renderer)\n\u001b[1;32m   1379\u001b[0m \u001b[39mfor\u001b[39;00m tick \u001b[39min\u001b[39;00m ticks_to_draw:\n",
      "File \u001b[0;32m~/miniconda3/envs/msse-python/lib/python3.11/site-packages/matplotlib/axis.py:1270\u001b[0m, in \u001b[0;36mAxis._update_ticks\u001b[0;34m(self)\u001b[0m\n\u001b[1;32m   1268\u001b[0m     tick\u001b[39m.\u001b[39mset_label1(label)\n\u001b[1;32m   1269\u001b[0m     tick\u001b[39m.\u001b[39mset_label2(label)\n\u001b[0;32m-> 1270\u001b[0m minor_locs \u001b[39m=\u001b[39m \u001b[39mself\u001b[39;49m\u001b[39m.\u001b[39;49mget_minorticklocs()\n\u001b[1;32m   1271\u001b[0m minor_labels \u001b[39m=\u001b[39m \u001b[39mself\u001b[39m\u001b[39m.\u001b[39mminor\u001b[39m.\u001b[39mformatter\u001b[39m.\u001b[39mformat_ticks(minor_locs)\n\u001b[1;32m   1272\u001b[0m minor_ticks \u001b[39m=\u001b[39m \u001b[39mself\u001b[39m\u001b[39m.\u001b[39mget_minor_ticks(\u001b[39mlen\u001b[39m(minor_locs))\n",
      "File \u001b[0;32m~/miniconda3/envs/msse-python/lib/python3.11/site-packages/matplotlib/axis.py:1494\u001b[0m, in \u001b[0;36mAxis.get_minorticklocs\u001b[0;34m(self)\u001b[0m\n\u001b[1;32m   1492\u001b[0m transform \u001b[39m=\u001b[39m \u001b[39mself\u001b[39m\u001b[39m.\u001b[39m_scale\u001b[39m.\u001b[39mget_transform()\n\u001b[1;32m   1493\u001b[0m tr_minor_locs \u001b[39m=\u001b[39m transform\u001b[39m.\u001b[39mtransform(minor_locs)\n\u001b[0;32m-> 1494\u001b[0m tr_major_locs \u001b[39m=\u001b[39m transform\u001b[39m.\u001b[39;49mtransform(major_locs)\n\u001b[1;32m   1495\u001b[0m lo, hi \u001b[39m=\u001b[39m \u001b[39msorted\u001b[39m(transform\u001b[39m.\u001b[39mtransform(\u001b[39mself\u001b[39m\u001b[39m.\u001b[39mget_view_interval()))\n\u001b[1;32m   1496\u001b[0m \u001b[39m# Use the transformed view limits as scale.  1e-5 is the default\u001b[39;00m\n\u001b[1;32m   1497\u001b[0m \u001b[39m# rtol for np.isclose.\u001b[39;00m\n",
      "File \u001b[0;32m~/miniconda3/envs/msse-python/lib/python3.11/site-packages/matplotlib/transforms.py:1490\u001b[0m, in \u001b[0;36mTransform.transform\u001b[0;34m(self, values)\u001b[0m\n\u001b[1;32m   1487\u001b[0m values \u001b[39m=\u001b[39m values\u001b[39m.\u001b[39mreshape((\u001b[39m-\u001b[39m\u001b[39m1\u001b[39m, \u001b[39mself\u001b[39m\u001b[39m.\u001b[39minput_dims))\n\u001b[1;32m   1489\u001b[0m \u001b[39m# Transform the values\u001b[39;00m\n\u001b[0;32m-> 1490\u001b[0m res \u001b[39m=\u001b[39m \u001b[39mself\u001b[39m\u001b[39m.\u001b[39mtransform_affine(\u001b[39mself\u001b[39;49m\u001b[39m.\u001b[39;49mtransform_non_affine(values))\n\u001b[1;32m   1492\u001b[0m \u001b[39m# Convert the result back to the shape of the input values.\u001b[39;00m\n\u001b[1;32m   1493\u001b[0m \u001b[39mif\u001b[39;00m ndim \u001b[39m==\u001b[39m \u001b[39m0\u001b[39m:\n",
      "File \u001b[0;32m~/miniconda3/envs/msse-python/lib/python3.11/site-packages/matplotlib/scale.py:153\u001b[0m, in \u001b[0;36mFuncTransform.transform_non_affine\u001b[0;34m(self, values)\u001b[0m\n\u001b[1;32m    152\u001b[0m \u001b[39mdef\u001b[39;00m \u001b[39mtransform_non_affine\u001b[39m(\u001b[39mself\u001b[39m, values):\n\u001b[0;32m--> 153\u001b[0m     \u001b[39mreturn\u001b[39;00m \u001b[39mself\u001b[39;49m\u001b[39m.\u001b[39;49m_forward(values)\n",
      "File \u001b[0;32m~/miniconda3/envs/msse-python/lib/python3.11/site-packages/matplotlib/colorbar.py:1153\u001b[0m, in \u001b[0;36mColorbar._forward_boundaries\u001b[0;34m(self, x)\u001b[0m\n\u001b[1;32m   1150\u001b[0m \u001b[39mdef\u001b[39;00m \u001b[39m_forward_boundaries\u001b[39m(\u001b[39mself\u001b[39m, x):\n\u001b[1;32m   1151\u001b[0m     \u001b[39m# map boundaries equally between 0 and 1...\u001b[39;00m\n\u001b[1;32m   1152\u001b[0m     b \u001b[39m=\u001b[39m \u001b[39mself\u001b[39m\u001b[39m.\u001b[39m_boundaries\n\u001b[0;32m-> 1153\u001b[0m     y \u001b[39m=\u001b[39m np\u001b[39m.\u001b[39;49minterp(x, b, np\u001b[39m.\u001b[39;49mlinspace(\u001b[39m0\u001b[39;49m, \u001b[39m1\u001b[39;49m, \u001b[39mlen\u001b[39;49m(b)))\n\u001b[1;32m   1154\u001b[0m     \u001b[39m# the following avoids ticks in the extends:\u001b[39;00m\n\u001b[1;32m   1155\u001b[0m     eps \u001b[39m=\u001b[39m (b[\u001b[39m-\u001b[39m\u001b[39m1\u001b[39m] \u001b[39m-\u001b[39m b[\u001b[39m0\u001b[39m]) \u001b[39m*\u001b[39m \u001b[39m1e-6\u001b[39m\n",
      "File \u001b[0;32m~/miniconda3/envs/msse-python/lib/python3.11/site-packages/numpy/lib/function_base.py:1599\u001b[0m, in \u001b[0;36minterp\u001b[0;34m(x, xp, fp, left, right, period)\u001b[0m\n\u001b[1;32m   1596\u001b[0m     xp \u001b[39m=\u001b[39m np\u001b[39m.\u001b[39mconcatenate((xp[\u001b[39m-\u001b[39m\u001b[39m1\u001b[39m:]\u001b[39m-\u001b[39mperiod, xp, xp[\u001b[39m0\u001b[39m:\u001b[39m1\u001b[39m]\u001b[39m+\u001b[39mperiod))\n\u001b[1;32m   1597\u001b[0m     fp \u001b[39m=\u001b[39m np\u001b[39m.\u001b[39mconcatenate((fp[\u001b[39m-\u001b[39m\u001b[39m1\u001b[39m:], fp, fp[\u001b[39m0\u001b[39m:\u001b[39m1\u001b[39m]))\n\u001b[0;32m-> 1599\u001b[0m \u001b[39mreturn\u001b[39;00m interp_func(x, xp, fp, left, right)\n",
      "\u001b[0;31mTypeError\u001b[0m: Cannot cast array data from dtype('<U1') to dtype('float64') according to the rule 'safe'"
     ]
    },
    {
     "data": {
      "text/plain": [
       "<Figure size 640x480 with 2 Axes>"
      ]
     },
     "metadata": {},
     "output_type": "display_data"
    }
   ],
   "source": [
    "display_cellular_automaton(generation_number= 1)"
   ]
  },
  {
   "cell_type": "markdown",
   "metadata": {},
   "source": [
    "# Output 2: Count the number of individuals in the population that are a particular genotype."
   ]
  },
  {
   "cell_type": "code",
   "execution_count": 47,
   "metadata": {},
   "outputs": [],
   "source": [
    "def display_genotype_count(genotype, generation_number):\n",
    "    \"\"\"\n",
    "    Displays the number of individuals in a given genotype at a specific generation.\n",
    "\n",
    "    Parameters\n",
    "    ----------\n",
    "    genotype : str\n",
    "        the genotype to count individuals for (homozygous dominant, heterozygous, or recessive)\n",
    "    generation_number : int\n",
    "        the generation number in the simulation.\n",
    "\n",
    "    Returns\n",
    "    -------\n",
    "    A print statement saying the number of individuals of the chosen genotype in the chosen generation.\n",
    "    \"\"\"\n",
    "    # Open text file containing generation counts\n",
    "    with open('Data/simulation_output.txt', 'r') as file:\n",
    "        output_lines = file.readlines()\n",
    "\n",
    "    # Find index of the line that starts with 'Generation {generation_number}:'\n",
    "    start_index = None\n",
    "    for i, line in enumerate(output_lines):\n",
    "        if line.startswith(f'Generation {generation_number}:'):\n",
    "            start_index = i + 1  # skip the line with the generation name\n",
    "            break\n",
    "\n",
    "    # If the generation is not found, print an error message\n",
    "    if start_index is None:\n",
    "        print(f'ERROR: Generation {generation_number} does not exist') \n",
    "\n",
    "    # Extract lines for desired generation\n",
    "    generation_lines = output_lines[start_index:start_index + 10]  # each generation has 10 lines\n",
    "    print(f'gen lines{generation_lines}')\n",
    "\n",
    "    # Flatten the generation lines into a single string and split by space\n",
    "    generation_data = ' '.join(generation_lines).split()\n",
    "    print(f'gen data {generation_data}')\n",
    "\n",
    "    # Count the occurrences of each integer, write into a dictionary (counts)\n",
    "    counts = {}\n",
    "    for value in generation_data:\n",
    "        counts[int(value)] = counts.get(int(value), 0) + 1\n",
    "\n",
    "    # Get counts as a percentage of total population\n",
    "    if genotype == 'homozygous dominant':\n",
    "        print(f'There are {counts[1]} individuals with the {genotype} genotype in Generation {generation_number}.')\n",
    "    if genotype == 'heterozygous':\n",
    "        print(f'There are {counts[2]} individuals with the {genotype} genotype in Generation {generation_number}.')\n",
    "    if genotype == 'recessive':\n",
    "        print(f'There are {counts[3]} individuals with the {genotype} genotype in Generation {generation_number}.')"
   ]
  },
  {
   "cell_type": "code",
   "execution_count": 48,
   "metadata": {},
   "outputs": [
    {
     "name": "stdout",
     "output_type": "stream",
     "text": [
      "gen lines['3 3 2 3 2 3 2 3 2 2 \\n', '3 2 3 2 3 2 2 3 3 2 \\n', '3 3 2 3 2 2 2 2 2 2 \\n', '2 2 3 2 2 1 3 2 2 2 \\n', '3 2 2 3 2 2 2 2 3 2 \\n', '3 2 2 2 2 3 2 3 2 2 \\n', '2 2 3 2 2 2 3 2 2 2 \\n', '2 3 2 2 2 2 2 3 3 2 \\n', '2 2 2 2 2 2 2 2 2 3 \\n', '2 2 3 2 2 2 2 2 2 3 \\n']\n",
      "gen data ['3', '3', '2', '3', '2', '3', '2', '3', '2', '2', '3', '2', '3', '2', '3', '2', '2', '3', '3', '2', '3', '3', '2', '3', '2', '2', '2', '2', '2', '2', '2', '2', '3', '2', '2', '1', '3', '2', '2', '2', '3', '2', '2', '3', '2', '2', '2', '2', '3', '2', '3', '2', '2', '2', '2', '3', '2', '3', '2', '2', '2', '2', '3', '2', '2', '2', '3', '2', '2', '2', '2', '3', '2', '2', '2', '2', '2', '3', '3', '2', '2', '2', '2', '2', '2', '2', '2', '2', '2', '3', '2', '2', '3', '2', '2', '2', '2', '2', '2', '3']\n",
      "There are 29 individuals with the recessive genotype in Generation 5.\n"
     ]
    }
   ],
   "source": [
    "display_genotype_count(genotype = \"recessive\", generation_number= 5)"
   ]
  },
  {
   "cell_type": "markdown",
   "metadata": {},
   "source": [
    "# Output 3: Bar graph that displays allele frequency of a chosen generation"
   ]
  },
  {
   "cell_type": "code",
   "execution_count": 31,
   "metadata": {},
   "outputs": [],
   "source": [
    "def plot_generation_counts(generation_number, total_population):\n",
    "    \"\"\"\n",
    "    This function plots the number of each individuals that have a certain genotype as a bar graph\n",
    "\n",
    "    Parameters\n",
    "    ----------\n",
    "    generation_number : int\n",
    "        The generation number whose allele frequencies we would like to look at\n",
    "    total_population : int\n",
    "        The total number of individuals in the population\n",
    "\n",
    "    Returns\n",
    "    -------\n",
    "    A bar graph with proportions of each allele frequency.\n",
    "\n",
    "    \"\"\"\n",
    "    # Open text file containing generation counts\n",
    "    with open('Data/simulation_output.txt', 'r') as file:\n",
    "        output_lines = file.readlines()\n",
    "\n",
    "    # Find index of the line that starts with 'Generation {generation_number}:'\n",
    "    start_index = None\n",
    "    for i, line in enumerate(output_lines):\n",
    "        if line.startswith(f'Generation {generation_number}:'):\n",
    "            start_index = i + 1  # skip the line with the generation name\n",
    "            break\n",
    "\n",
    "    # If the generation is not found, print an error message\n",
    "    if start_index is None:\n",
    "        print(f'ERROR: Generation {generation_number} does not exist') \n",
    "\n",
    "    # Extract lines for desired generation\n",
    "    generation_lines = output_lines[start_index:start_index + 10]  # each generation has 10 lines\n",
    "\n",
    "    # Flatten the generation lines into a single string and split by space\n",
    "    generation_data = ' '.join(generation_lines).split()\n",
    "\n",
    "    # Count the occurrences of each integer, write into a dictionary (counts)\n",
    "    counts = {}\n",
    "    for value in generation_data:\n",
    "        counts[int(value)] = counts.get(int(value), 0) + 1\n",
    "\n",
    "    # Get counts as a percentage of total population\n",
    "    GG_proportion = counts[1] / total_population\n",
    "    Gg_proportion = counts[2] / total_population\n",
    "    gg_propotion = counts[3] / total_population\n",
    "\n",
    "    # Plot\n",
    "    labels = ['Homozygous Dominant', 'Heterozygous', 'Recessive']\n",
    "    proportions = [GG_proportion, Gg_proportion, gg_propotion]\n",
    "\n",
    "    plt.bar(labels, proportions, color=['royalblue', 'mediumslateblue', 'mediumorchid'])\n",
    "    plt.title(f'Allele Percentages for Generation {generation_number}')\n",
    "    plt.xlabel('Genotype')\n",
    "    plt.ylabel('Proportion of Population')\n",
    "    plt.show()\n"
   ]
  },
  {
   "cell_type": "code",
   "execution_count": 34,
   "metadata": {},
   "outputs": [
    {
     "data": {
      "image/png": "[encoded data removed]",
      "text/plain": [
       "<Figure size 640x480 with 1 Axes>"
      ]
     },
     "metadata": {},
     "output_type": "display_data"
    }
   ],
   "source": [
    "plot_generation_counts(generation_number= 6, total_population= 100)"
   ]
  },
  {
   "cell_type": "markdown",
   "metadata": {},
   "source": [
    "# Output 4: Filled area plot to visualize how allele frequency changes over generations"
   ]
  },
  {
   "cell_type": "code",
   "execution_count": 35,
   "metadata": {},
   "outputs": [],
   "source": [
    "def extract_generation_counts_to_df(filename, generation_number):\n",
    "    \"\"\"\n",
    "    This function extracts number of each individuals of each phenotype from the generation count output text and puts the data into a dataframe. The resulting dataframe can be used to produce plots.\n",
    "\n",
    "    Parameters\n",
    "    ----------\n",
    "    filename : str\n",
    "    Name of file you'd like to extract counts from (include file extension)\n",
    "    \n",
    "    Returns\n",
    "    -------\n",
    "    df : Pandas dataframe\n",
    "    A pandas dataframe with generation counts. It's much easier to make graphs with seaborn and plotly once you have a dataframe.\n",
    "    \"\"\"\n",
    "    # Open text file containing generation counts\n",
    "    with open(filename, 'r') as file:\n",
    "        output_lines = file.readlines()\n",
    "\n",
    "    # Initialize a dictionary to store counts for each generation\n",
    "    all_counts = {}\n",
    "\n",
    "    # Iterate through each generation\n",
    "    for generation_number in range(1, generation_number+1):\n",
    "        # Find index of the line that starts with 'Generation {generation_number}:'\n",
    "        start_index = None\n",
    "        for i, line in enumerate(output_lines):\n",
    "            if line.startswith(f'Generation {generation_number}:'):\n",
    "                start_index = i + 1  # skip the line with the generation name\n",
    "                break\n",
    "        \n",
    "        # If the generation is not found, print an error message\n",
    "        if start_index is None:\n",
    "            print(f'ERROR: Generation {generation_number} does not exist') \n",
    "            continue\n",
    "\n",
    "        # Extract lines for the desired generation\n",
    "        generation_lines = output_lines[start_index:start_index + 10]  # each generation has 10 lines\n",
    "\n",
    "        # Flatten the generation lines into a single string and split by space\n",
    "        generation_data = ' '.join(generation_lines).split()\n",
    "\n",
    "        # Count the occurrences of each integer, write into a dictionary (counts)\n",
    "        counts = {}\n",
    "        for value in generation_data:\n",
    "            counts[int(value)] = counts.get(int(value), 0) + 1\n",
    "\n",
    "        # Save counts for the current generation in the all_counts dictionary\n",
    "        all_counts[generation_number] = counts\n",
    "\n",
    "    # Create a dataframe from the dictionary\n",
    "    df = pd.DataFrame(all_counts)\n",
    "\n",
    "    # Transpose so that rows (genotypes) become columns\n",
    "    df = df.T\n",
    "\n",
    "    # Set NaN values to 0\n",
    "    df =  df.fillna(0)\n",
    "\n",
    "    # Add column with generation number\n",
    "    df['Generation Number'] = list(range(0, 50))\n",
    "\n",
    "    return df\n",
    "    "
   ]
  },
  {
   "cell_type": "code",
   "execution_count": 33,
   "metadata": {},
   "outputs": [],
   "source": [
    "# create dataframe to use for area plot\n",
    "plotting_df = extract_generation_counts_to_df(filename= 'Data/simulation_output.txt', generation_number= 50)\n",
    "\n",
    "# rename columns\n",
    "# this line did not work for some reason so I manually created new colums and dropped the old ones\n",
    "#plotting_df = plotting_df.rename(columns = {'2': 'Heterozygous', '1': 'Homozygous Dominant', '3': 'Recessive', 'Generation': 'Generation'})\n",
    "\n",
    "plotting_df['Homozygous Dominant Counts'] = plotting_df[1]\n",
    "plotting_df['Heterozygous Counts'] = plotting_df[2]\n",
    "plotting_df['Recessive Counts'] = plotting_df[3]\n",
    "\n",
    "drop_col = [2, 3, 1]\n",
    "plotting_df = plotting_df.drop(columns= drop_col)"
   ]
  },
  {
   "cell_type": "code",
   "execution_count": 36,
   "metadata": {},
   "outputs": [
    {
     "data": {
      "application/vnd.plotly.v1+json": {
       "config": {
        "plotlyServerURL": "https://plot.ly"
       },
       "data": [
        {
         "fillpattern": {
          "shape": ""
         },
         "hovertemplate": "variable=Homozygous Dominant Counts<br>Generation Number=%{x}<br>value=%{y}<extra></extra>",
         "legendgroup": "Homozygous Dominant Counts",
         "line": {
          "color": "#636efa"
         },
         "marker": {
          "symbol": "circle"
         },
         "mode": "lines",
         "name": "Homozygous Dominant Counts",
         "orientation": "v",
         "showlegend": true,
         "stackgroup": "1",
         "type": "scatter",
         "x": [
          0,
          1,
          2,
          3,
          4,
          5,
          6,
          7,
          8,
          9,
          10,
          11,
          12,
          13,
          14,
          15,
          16,
          17,
          18,
          19,
          20,
          21,
          22,
          23,
          24,
          25,
          26,
          27,
          28,
          29,
          30,
          31,
          32,
          33,
          34,
          35,
          36,
          37,
          38,
          39,
          40,
          41,
          42,
          43,
          44,
          45,
          46,
          47,
          48,
          49
         ],
         "xaxis": "x",
         "y": [
          5,
          4,
          2,
          1,
          1,
          2,
          1,
          0,
          2,
          1,
          3,
          0,
          1,
          0,
          0,
          0,
          2,
          2,
          1,
          1,
          0,
          1,
          0,
          1,
          0,
          2,
          0,
          0,
          2,
          0,
          0,
          1,
          1,
          1,
          0,
          1,
          0,
          0,
          2,
          0,
          2,
          0,
          1,
          0,
          0,
          0,
          0,
          0,
          0,
          0
         ],
         "yaxis": "y"
        },
        {
         "fillpattern": {
          "shape": ""
         },
         "hovertemplate": "variable=Heterozygous Counts<br>Generation Number=%{x}<br>value=%{y}<extra></extra>",
         "legendgroup": "Heterozygous Counts",
         "line": {
          "color": "#EF553B"
         },
         "marker": {
          "symbol": "circle"
         },
         "mode": "lines",
         "name": "Heterozygous Counts",
         "orientation": "v",
         "showlegend": true,
         "stackgroup": "1",
         "type": "scatter",
         "x": [
          0,
          1,
          2,
          3,
          4,
          5,
          6,
          7,
          8,
          9,
          10,
          11,
          12,
          13,
          14,
          15,
          16,
          17,
          18,
          19,
          20,
          21,
          22,
          23,
          24,
          25,
          26,
          27,
          28,
          29,
          30,
          31,
          32,
          33,
          34,
          35,
          36,
          37,
          38,
          39,
          40,
          41,
          42,
          43,
          44,
          45,
          46,
          47,
          48,
          49
         ],
         "xaxis": "x",
         "y": [
          82,
          65,
          70,
          62,
          70,
          67,
          59,
          71,
          74,
          76,
          73,
          69,
          65,
          64,
          72,
          70,
          68,
          58,
          48,
          55,
          59,
          47,
          49,
          49,
          53,
          55,
          55,
          50,
          50,
          48,
          49,
          53,
          51,
          49,
          55,
          51,
          48,
          42,
          41,
          39,
          36,
          33,
          29,
          25,
          20,
          16,
          16,
          16,
          17,
          19
         ],
         "yaxis": "y"
        },
        {
         "fillpattern": {
          "shape": ""
         },
         "hovertemplate": "variable=Recessive Counts<br>Generation Number=%{x}<br>value=%{y}<extra></extra>",
         "legendgroup": "Recessive Counts",
         "line": {
          "color": "#00cc96"
         },
         "marker": {
          "symbol": "circle"
         },
         "mode": "lines",
         "name": "Recessive Counts",
         "orientation": "v",
         "showlegend": true,
         "stackgroup": "1",
         "type": "scatter",
         "x": [
          0,
          1,
          2,
          3,
          4,
          5,
          6,
          7,
          8,
          9,
          10,
          11,
          12,
          13,
          14,
          15,
          16,
          17,
          18,
          19,
          20,
          21,
          22,
          23,
          24,
          25,
          26,
          27,
          28,
          29,
          30,
          31,
          32,
          33,
          34,
          35,
          36,
          37,
          38,
          39,
          40,
          41,
          42,
          43,
          44,
          45,
          46,
          47,
          48,
          49
         ],
         "xaxis": "x",
         "y": [
          13,
          31,
          28,
          37,
          29,
          31,
          40,
          29,
          24,
          23,
          24,
          31,
          34,
          36,
          28,
          30,
          30,
          40,
          51,
          44,
          41,
          52,
          51,
          50,
          47,
          43,
          45,
          50,
          48,
          52,
          51,
          46,
          48,
          50,
          45,
          48,
          52,
          58,
          57,
          61,
          62,
          67,
          70,
          75,
          80,
          84,
          84,
          84,
          83,
          81
         ],
         "yaxis": "y"
        }
       ],
       "layout": {
        "legend": {
         "title": {
          "text": "variable"
         },
         "tracegroupgap": 0
        },
        "margin": {
         "t": 60
        },
        "template": {
         "data": {
          "bar": [
           {
            "error_x": {
             "color": "#2a3f5f"
            },
            "error_y": {
             "color": "#2a3f5f"
            },
            "marker": {
             "line": {
              "color": "#E5ECF6",
              "width": 0.5
             },
             "pattern": {
              "fillmode": "overlay",
              "size": 10,
              "solidity": 0.2
             }
            },
            "type": "bar"
           }
          ],
          "barpolar": [
           {
            "marker": {
             "line": {
              "color": "#E5ECF6",
              "width": 0.5
             },
             "pattern": {
              "fillmode": "overlay",
              "size": 10,
              "solidity": 0.2
             }
            },
            "type": "barpolar"
           }
          ],
          "carpet": [
           {
            "aaxis": {
             "endlinecolor": "#2a3f5f",
             "gridcolor": "white",
             "linecolor": "white",
             "minorgridcolor": "white",
             "startlinecolor": "#2a3f5f"
            },
            "baxis": {
             "endlinecolor": "#2a3f5f",
             "gridcolor": "white",
             "linecolor": "white",
             "minorgridcolor": "white",
             "startlinecolor": "#2a3f5f"
            },
            "type": "carpet"
           }
          ],
          "choropleth": [
           {
            "colorbar": {
             "outlinewidth": 0,
             "ticks": ""
            },
            "type": "choropleth"
           }
          ],
          "contour": [
           {
            "colorbar": {
             "outlinewidth": 0,
             "ticks": ""
            },
            "colorscale": [
             [
              0,
              "#0d0887"
             ],
             [
              0.1111111111111111,
              "#46039f"
             ],
             [
              0.2222222222222222,
              "#7201a8"
             ],
             [
              0.3333333333333333,
              "#9c179e"
             ],
             [
              0.4444444444444444,
              "#bd3786"
             ],
             [
              0.5555555555555556,
              "#d8576b"
             ],
             [
              0.6666666666666666,
              "#ed7953"
             ],
             [
              0.7777777777777778,
              "#fb9f3a"
             ],
             [
              0.8888888888888888,
              "#fdca26"
             ],
             [
              1,
              "#f0f921"
             ]
            ],
            "type": "contour"
           }
          ],
          "contourcarpet": [
           {
            "colorbar": {
             "outlinewidth": 0,
             "ticks": ""
            },
            "type": "contourcarpet"
           }
          ],
          "heatmap": [
           {
            "colorbar": {
             "outlinewidth": 0,
             "ticks": ""
            },
            "colorscale": [
             [
              0,
              "#0d0887"
             ],
             [
              0.1111111111111111,
              "#46039f"
             ],
             [
              0.2222222222222222,
              "#7201a8"
             ],
             [
              0.3333333333333333,
              "#9c179e"
             ],
             [
              0.4444444444444444,
              "#bd3786"
             ],
             [
              0.5555555555555556,
              "#d8576b"
             ],
             [
              0.6666666666666666,
              "#ed7953"
             ],
             [
              0.7777777777777778,
              "#fb9f3a"
             ],
             [
              0.8888888888888888,
              "#fdca26"
             ],
             [
              1,
              "#f0f921"
             ]
            ],
            "type": "heatmap"
           }
          ],
          "heatmapgl": [
           {
            "colorbar": {
             "outlinewidth": 0,
             "ticks": ""
            },
            "colorscale": [
             [
              0,
              "#0d0887"
             ],
             [
              0.1111111111111111,
              "#46039f"
             ],
             [
              0.2222222222222222,
              "#7201a8"
             ],
             [
              0.3333333333333333,
              "#9c179e"
             ],
             [
              0.4444444444444444,
              "#bd3786"
             ],
             [
              0.5555555555555556,
              "#d8576b"
             ],
             [
              0.6666666666666666,
              "#ed7953"
             ],
             [
              0.7777777777777778,
              "#fb9f3a"
             ],
             [
              0.8888888888888888,
              "#fdca26"
             ],
             [
              1,
              "#f0f921"
             ]
            ],
            "type": "heatmapgl"
           }
          ],
          "histogram": [
           {
            "marker": {
             "pattern": {
              "fillmode": "overlay",
              "size": 10,
              "solidity": 0.2
             }
            },
            "type": "histogram"
           }
          ],
          "histogram2d": [
           {
            "colorbar": {
             "outlinewidth": 0,
             "ticks": ""
            },
            "colorscale": [
             [
              0,
              "#0d0887"
             ],
             [
              0.1111111111111111,
              "#46039f"
             ],
             [
              0.2222222222222222,
              "#7201a8"
             ],
             [
              0.3333333333333333,
              "#9c179e"
             ],
             [
              0.4444444444444444,
              "#bd3786"
             ],
             [
              0.5555555555555556,
              "#d8576b"
             ],
             [
              0.6666666666666666,
              "#ed7953"
             ],
             [
              0.7777777777777778,
              "#fb9f3a"
             ],
             [
              0.8888888888888888,
              "#fdca26"
             ],
             [
              1,
              "#f0f921"
             ]
            ],
            "type": "histogram2d"
           }
          ],
          "histogram2dcontour": [
           {
            "colorbar": {
             "outlinewidth": 0,
             "ticks": ""
            },
            "colorscale": [
             [
              0,
              "#0d0887"
             ],
             [
              0.1111111111111111,
              "#46039f"
             ],
             [
              0.2222222222222222,
              "#7201a8"
             ],
             [
              0.3333333333333333,
              "#9c179e"
             ],
             [
              0.4444444444444444,
              "#bd3786"
             ],
             [
              0.5555555555555556,
              "#d8576b"
             ],
             [
              0.6666666666666666,
              "#ed7953"
             ],
             [
              0.7777777777777778,
              "#fb9f3a"
             ],
             [
              0.8888888888888888,
              "#fdca26"
             ],
             [
              1,
              "#f0f921"
             ]
            ],
            "type": "histogram2dcontour"
           }
          ],
          "mesh3d": [
           {
            "colorbar": {
             "outlinewidth": 0,
             "ticks": ""
            },
            "type": "mesh3d"
           }
          ],
          "parcoords": [
           {
            "line": {
             "colorbar": {
              "outlinewidth": 0,
              "ticks": ""
             }
            },
            "type": "parcoords"
           }
          ],
          "pie": [
           {
            "automargin": true,
            "type": "pie"
           }
          ],
          "scatter": [
           {
            "fillpattern": {
             "fillmode": "overlay",
             "size": 10,
             "solidity": 0.2
            },
            "type": "scatter"
           }
          ],
          "scatter3d": [
           {
            "line": {
             "colorbar": {
              "outlinewidth": 0,
              "ticks": ""
             }
            },
            "marker": {
             "colorbar": {
              "outlinewidth": 0,
              "ticks": ""
             }
            },
            "type": "scatter3d"
           }
          ],
          "scattercarpet": [
           {
            "marker": {
             "colorbar": {
              "outlinewidth": 0,
              "ticks": ""
             }
            },
            "type": "scattercarpet"
           }
          ],
          "scattergeo": [
           {
            "marker": {
             "colorbar": {
              "outlinewidth": 0,
              "ticks": ""
             }
            },
            "type": "scattergeo"
           }
          ],
          "scattergl": [
           {
            "marker": {
             "colorbar": {
              "outlinewidth": 0,
              "ticks": ""
             }
            },
            "type": "scattergl"
           }
          ],
          "scattermapbox": [
           {
            "marker": {
             "colorbar": {
              "outlinewidth": 0,
              "ticks": ""
             }
            },
            "type": "scattermapbox"
           }
          ],
          "scatterpolar": [
           {
            "marker": {
             "colorbar": {
              "outlinewidth": 0,
              "ticks": ""
             }
            },
            "type": "scatterpolar"
           }
          ],
          "scatterpolargl": [
           {
            "marker": {
             "colorbar": {
              "outlinewidth": 0,
              "ticks": ""
             }
            },
            "type": "scatterpolargl"
           }
          ],
          "scatterternary": [
           {
            "marker": {
             "colorbar": {
              "outlinewidth": 0,
              "ticks": ""
             }
            },
            "type": "scatterternary"
           }
          ],
          "surface": [
           {
            "colorbar": {
             "outlinewidth": 0,
             "ticks": ""
            },
            "colorscale": [
             [
              0,
              "#0d0887"
             ],
             [
              0.1111111111111111,
              "#46039f"
             ],
             [
              0.2222222222222222,
              "#7201a8"
             ],
             [
              0.3333333333333333,
              "#9c179e"
             ],
             [
              0.4444444444444444,
              "#bd3786"
             ],
             [
              0.5555555555555556,
              "#d8576b"
             ],
             [
              0.6666666666666666,
              "#ed7953"
             ],
             [
              0.7777777777777778,
              "#fb9f3a"
             ],
             [
              0.8888888888888888,
              "#fdca26"
             ],
             [
              1,
              "#f0f921"
             ]
            ],
            "type": "surface"
           }
          ],
          "table": [
           {
            "cells": {
             "fill": {
              "color": "#EBF0F8"
             },
             "line": {
              "color": "white"
             }
            },
            "header": {
             "fill": {
              "color": "#C8D4E3"
             },
             "line": {
              "color": "white"
             }
            },
            "type": "table"
           }
          ]
         },
         "layout": {
          "annotationdefaults": {
           "arrowcolor": "#2a3f5f",
           "arrowhead": 0,
           "arrowwidth": 1
          },
          "autotypenumbers": "strict",
          "coloraxis": {
           "colorbar": {
            "outlinewidth": 0,
            "ticks": ""
           }
          },
          "colorscale": {
           "diverging": [
            [
             0,
             "#8e0152"
            ],
            [
             0.1,
             "#c51b7d"
            ],
            [
             0.2,
             "#de77ae"
            ],
            [
             0.3,
             "#f1b6da"
            ],
            [
             0.4,
             "#fde0ef"
            ],
            [
             0.5,
             "#f7f7f7"
            ],
            [
             0.6,
             "#e6f5d0"
            ],
            [
             0.7,
             "#b8e186"
            ],
            [
             0.8,
             "#7fbc41"
            ],
            [
             0.9,
             "#4d9221"
            ],
            [
             1,
             "#276419"
            ]
           ],
           "sequential": [
            [
             0,
             "#0d0887"
            ],
            [
             0.1111111111111111,
             "#46039f"
            ],
            [
             0.2222222222222222,
             "#7201a8"
            ],
            [
             0.3333333333333333,
             "#9c179e"
            ],
            [
             0.4444444444444444,
             "#bd3786"
            ],
            [
             0.5555555555555556,
             "#d8576b"
            ],
            [
             0.6666666666666666,
             "#ed7953"
            ],
            [
             0.7777777777777778,
             "#fb9f3a"
            ],
            [
             0.8888888888888888,
             "#fdca26"
            ],
            [
             1,
             "#f0f921"
            ]
           ],
           "sequentialminus": [
            [
             0,
             "#0d0887"
            ],
            [
             0.1111111111111111,
             "#46039f"
            ],
            [
             0.2222222222222222,
             "#7201a8"
            ],
            [
             0.3333333333333333,
             "#9c179e"
            ],
            [
             0.4444444444444444,
             "#bd3786"
            ],
            [
             0.5555555555555556,
             "#d8576b"
            ],
            [
             0.6666666666666666,
             "#ed7953"
            ],
            [
             0.7777777777777778,
             "#fb9f3a"
            ],
            [
             0.8888888888888888,
             "#fdca26"
            ],
            [
             1,
             "#f0f921"
            ]
           ]
          },
          "colorway": [
           "#636efa",
           "#EF553B",
           "#00cc96",
           "#ab63fa",
           "#FFA15A",
           "#19d3f3",
           "#FF6692",
           "#B6E880",
           "#FF97FF",
           "#FECB52"
          ],
          "font": {
           "color": "#2a3f5f"
          },
          "geo": {
           "bgcolor": "white",
           "lakecolor": "white",
           "landcolor": "#E5ECF6",
           "showlakes": true,
           "showland": true,
           "subunitcolor": "white"
          },
          "hoverlabel": {
           "align": "left"
          },
          "hovermode": "closest",
          "mapbox": {
           "style": "light"
          },
          "paper_bgcolor": "white",
          "plot_bgcolor": "#E5ECF6",
          "polar": {
           "angularaxis": {
            "gridcolor": "white",
            "linecolor": "white",
            "ticks": ""
           },
           "bgcolor": "#E5ECF6",
           "radialaxis": {
            "gridcolor": "white",
            "linecolor": "white",
            "ticks": ""
           }
          },
          "scene": {
           "xaxis": {
            "backgroundcolor": "#E5ECF6",
            "gridcolor": "white",
            "gridwidth": 2,
            "linecolor": "white",
            "showbackground": true,
            "ticks": "",
            "zerolinecolor": "white"
           },
           "yaxis": {
            "backgroundcolor": "#E5ECF6",
            "gridcolor": "white",
            "gridwidth": 2,
            "linecolor": "white",
            "showbackground": true,
            "ticks": "",
            "zerolinecolor": "white"
           },
           "zaxis": {
            "backgroundcolor": "#E5ECF6",
            "gridcolor": "white",
            "gridwidth": 2,
            "linecolor": "white",
            "showbackground": true,
            "ticks": "",
            "zerolinecolor": "white"
           }
          },
          "shapedefaults": {
           "line": {
            "color": "#2a3f5f"
           }
          },
          "ternary": {
           "aaxis": {
            "gridcolor": "white",
            "linecolor": "white",
            "ticks": ""
           },
           "baxis": {
            "gridcolor": "white",
            "linecolor": "white",
            "ticks": ""
           },
           "bgcolor": "#E5ECF6",
           "caxis": {
            "gridcolor": "white",
            "linecolor": "white",
            "ticks": ""
           }
          },
          "title": {
           "x": 0.05
          },
          "xaxis": {
           "automargin": true,
           "gridcolor": "white",
           "linecolor": "white",
           "ticks": "",
           "title": {
            "standoff": 15
           },
           "zerolinecolor": "white",
           "zerolinewidth": 2
          },
          "yaxis": {
           "automargin": true,
           "gridcolor": "white",
           "linecolor": "white",
           "ticks": "",
           "title": {
            "standoff": 15
           },
           "zerolinecolor": "white",
           "zerolinewidth": 2
          }
         }
        },
        "xaxis": {
         "anchor": "y",
         "domain": [
          0,
          1
         ],
         "title": {
          "text": "Generation Number"
         }
        },
        "yaxis": {
         "anchor": "x",
         "domain": [
          0,
          1
         ],
         "title": {
          "text": "value"
         }
        }
       }
      }
     },
     "metadata": {},
     "output_type": "display_data"
    }
   ],
   "source": [
    "fig = px.area(plotting_df, x='Generation Number', y=['Homozygous Dominant Counts','Heterozygous Counts', 'Recessive Counts'])\n",
    "fig.show()"
   ]
  }
 ],
 "metadata": {
  "kernelspec": {
   "display_name": "msse-python",
   "language": "python",
   "name": "python3"
  },
  "language_info": {
   "codemirror_mode": {
    "name": "ipython",
    "version": 3
   },
   "file_extension": ".py",
   "mimetype": "text/x-python",
   "name": "python",
   "nbconvert_exporter": "python",
   "pygments_lexer": "ipython3",
   "version": "3.11.4"
  },
  "orig_nbformat": 4
 },
 "nbformat": 4,
 "nbformat_minor": 2
}
