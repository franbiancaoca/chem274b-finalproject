{
 "cells": [
  {
   "cell_type": "markdown",
   "metadata": {},
   "source": [
    "## University of California, Berkeley\n",
    "## Chem 274B: Software Engineering Fundamentals for Molecular Sciences Final Project\n",
    "### Creators:  Francine Bianca Oca, Kassady Marasigan and Korede Ogundele\n",
    "### Date Created: December 5, 2023\n",
    "\n",
    "This file contains functions and plots that pertain to our allele frequency model."
   ]
  },
  {
   "cell_type": "code",
   "execution_count": 29,
   "metadata": {},
   "outputs": [],
   "source": [
    "import matplotlib.pyplot as plt\n",
    "import seaborn as sns\n",
    "import numpy as np\n",
    "import pandas as pd\n",
    "import plotly.express as px"
   ]
  },
  {
   "cell_type": "markdown",
   "metadata": {},
   "source": [
    "# Output 1: Display an image of the current CA configuration\n",
    "### not done"
   ]
  },
  {
   "cell_type": "code",
   "execution_count": null,
   "metadata": {},
   "outputs": [],
   "source": [
    "# initiate python grid plot (made up words by Korede)\n",
    "# intake population matrix, create graph that shows a unique color for each state\n"
   ]
  },
  {
   "cell_type": "markdown",
   "metadata": {},
   "source": [
    "# Output 2: Count the number of individuals in the population that are a particular genotype."
   ]
  },
  {
   "cell_type": "code",
   "execution_count": 27,
   "metadata": {},
   "outputs": [],
   "source": [
    "def display_genotype_count(genotype, generation_number):\n",
    "    \"\"\"\n",
    "    Displays the number of individuals in a given genotype at a specific generation.\n",
    "\n",
    "    Parameters\n",
    "    ----------\n",
    "    genotype : str\n",
    "        the genotype to count individuals for (homozygous dominant, heterozygous, or recessive)\n",
    "    generation_number : int\n",
    "        the generation number in the simulation.\n",
    "\n",
    "    Returns\n",
    "    -------\n",
    "    A print statement saying the number of individuals of the chosen genotype in the chosen generation.\n",
    "    \"\"\"\n",
    "    # Open text file containing generation counts\n",
    "    with open('../../Bin/simulation_output.txt', 'r') as file:\n",
    "        output_lines = file.readlines()\n",
    "\n",
    "    # Find index of the line that starts with 'Generation {generation_number}:'\n",
    "    start_index = None\n",
    "    for i, line in enumerate(output_lines):\n",
    "        if line.startswith(f'Generation {generation_number}:'):\n",
    "            start_index = i + 1  # skip the line with the generation name\n",
    "            break\n",
    "\n",
    "    # If the generation is not found, print an error message\n",
    "    if start_index is None:\n",
    "        print(f'ERROR: Generation {generation_number} does not exist') \n",
    "\n",
    "    # Extract lines for desired generation\n",
    "    generation_lines = output_lines[start_index:start_index + 10]  # each generation has 10 lines\n",
    "\n",
    "    # Flatten the generation lines into a single string and split by space\n",
    "    generation_data = ' '.join(generation_lines).split()\n",
    "\n",
    "    # Count the occurrences of each integer, write into a dictionary (counts)\n",
    "    counts = {}\n",
    "    for value in generation_data:\n",
    "        counts[int(value)] = counts.get(int(value), 0) + 1\n",
    "\n",
    "    # Get counts as a percentage of total population\n",
    "    if genotype == 'homozygous dominant':\n",
    "        print(f'There are {counts[1]} {genotype} individuals in {generation_number}.')\n",
    "    if genotype == 'heterozygous':\n",
    "        print(f'There are {counts[2]} {genotype} individuals in {generation_number}.')\n",
    "    if genotype == 'recessive':\n",
    "        print(f'There are {counts[3]} {genotype} individuals in {generation_number}.')"
   ]
  },
  {
   "cell_type": "code",
   "execution_count": 31,
   "metadata": {},
   "outputs": [
    {
     "name": "stdout",
     "output_type": "stream",
     "text": [
      "There are 45 recessive individuals in 5.\n"
     ]
    }
   ],
   "source": [
    "display_genotype_count(genotype = \"recessive\", generation_number= 5)"
   ]
  },
  {
   "cell_type": "markdown",
   "metadata": {},
   "source": [
    "# Output 3: Bar graph that displays allele frequency of a chosen generation\n",
    "### come back to this later; it won't print for all generations"
   ]
  },
  {
   "cell_type": "code",
   "execution_count": 14,
   "metadata": {},
   "outputs": [],
   "source": [
    "def plot_generation_counts(generation_number, total_population):\n",
    "    \"\"\"\n",
    "    This function plots the number of each individuals that have a certain genotype as a bar graph\n",
    "\n",
    "    Parameters\n",
    "    ----------\n",
    "    generation_number : int\n",
    "        The generation number whose allele frequencies we would like to look at\n",
    "    total_population : int\n",
    "        The total number of individuals in the population\n",
    "\n",
    "    Returns\n",
    "    -------\n",
    "    A bar graph with proportions of each allele frequency.\n",
    "\n",
    "    \"\"\"\n",
    "    # Open text file containing generation counts\n",
    "    with open('../../Bin/simulation_output.txt', 'r') as file:\n",
    "        output_lines = file.readlines()\n",
    "\n",
    "    # Find index of the line that starts with 'Generation {generation_number}:'\n",
    "    start_index = None\n",
    "    for i, line in enumerate(output_lines):\n",
    "        if line.startswith(f'Generation {generation_number}:'):\n",
    "            start_index = i + 1  # skip the line with the generation name\n",
    "            break\n",
    "\n",
    "    # If the generation is not found, print an error message\n",
    "    if start_index is None:\n",
    "        print(f'ERROR: Generation {generation_number} does not exist') \n",
    "\n",
    "    # Extract lines for desired generation\n",
    "    generation_lines = output_lines[start_index:start_index + 10]  # each generation has 10 lines\n",
    "\n",
    "    # Flatten the generation lines into a single string and split by space\n",
    "    generation_data = ' '.join(generation_lines).split()\n",
    "\n",
    "    # Count the occurrences of each integer, write into a dictionary (counts)\n",
    "    counts = {}\n",
    "    for value in generation_data:\n",
    "        counts[int(value)] = counts.get(int(value), 0) + 1\n",
    "\n",
    "    # Get counts as a percentage of total population\n",
    "    GG_proportion = counts[1] / total_population\n",
    "    Gg_proportion = counts[2] / total_population\n",
    "    gg_propotion = counts[3] / total_population\n",
    "\n",
    "    # Plot\n",
    "    labels = ['Homozygous Dominant', 'Heterozygous', 'Recessive']\n",
    "    proportions = [GG_proportion, Gg_proportion, gg_propotion]\n",
    "\n",
    "    plt.bar(labels, proportions, color=['royalblue', 'mediumslateblue', 'mediumorchid'])\n",
    "    plt.title(f'Allele Percentages for Generation {generation_number}')\n",
    "    plt.xlabel('Genotype')\n",
    "    plt.ylabel('Proportion of Population')\n",
    "    plt.show()\n"
   ]
  },
  {
   "cell_type": "code",
   "execution_count": 21,
   "metadata": {},
   "outputs": [
    {
     "data": {
      "image/png": "[encoded data removed]",
      "text/plain": [
       "<Figure size 640x480 with 1 Axes>"
      ]
     },
     "metadata": {},
     "output_type": "display_data"
    }
   ],
   "source": [
    "plot_generation_counts(generation_number= 11, total_population= 100)"
   ]
  },
  {
   "cell_type": "markdown",
   "metadata": {},
   "source": [
    "# Output 4: Filled area plot to visualize how allele frequency changes over generations"
   ]
  },
  {
   "cell_type": "code",
   "execution_count": 80,
   "metadata": {},
   "outputs": [],
   "source": [
    "def extract_generation_counts_to_df(filename, generation_number):\n",
    "    \"\"\"\n",
    "    This function extracts number of each individuals of each phenotype from the generation count output text and puts the data into a dataframe. The resulting dataframe can be used to produce plots.\n",
    "\n",
    "    Parameters\n",
    "    ----------\n",
    "    filename : str\n",
    "    Name of file you'd like to extract counts from (include file extension)\n",
    "    \n",
    "    Returns\n",
    "    -------\n",
    "    df : Pandas dataframe\n",
    "    A pandas dataframe with generation counts. It's much easier to make graphs with seaborn and plotly once you have a dataframe.\n",
    "    \"\"\"\n",
    "    # Open text file containing generation counts\n",
    "    with open(filename, 'r') as file:\n",
    "        output_lines = file.readlines()\n",
    "\n",
    "    # Initialize a dictionary to store counts for each generation\n",
    "    all_counts = {}\n",
    "\n",
    "    # Iterate through each generation\n",
    "    for generation_number in range(1, generation_number+1):\n",
    "        # Find index of the line that starts with 'Generation {generation_number}:'\n",
    "        start_index = None\n",
    "        for i, line in enumerate(output_lines):\n",
    "            if line.startswith(f'Generation {generation_number}:'):\n",
    "                start_index = i + 1  # skip the line with the generation name\n",
    "                break\n",
    "        \n",
    "        # If the generation is not found, print an error message\n",
    "        if start_index is None:\n",
    "            print(f'ERROR: Generation {generation_number} does not exist') \n",
    "            continue\n",
    "\n",
    "        # Extract lines for the desired generation\n",
    "        generation_lines = output_lines[start_index:start_index + 10]  # each generation has 10 lines\n",
    "\n",
    "        # Flatten the generation lines into a single string and split by space\n",
    "        generation_data = ' '.join(generation_lines).split()\n",
    "\n",
    "        # Count the occurrences of each integer, write into a dictionary (counts)\n",
    "        counts = {}\n",
    "        for value in generation_data:\n",
    "            counts[int(value)] = counts.get(int(value), 0) + 1\n",
    "\n",
    "        # Save counts for the current generation in the all_counts dictionary\n",
    "        all_counts[generation_number] = counts\n",
    "\n",
    "    # Create a dataframe from the dictionary\n",
    "    df = pd.DataFrame(all_counts)\n",
    "\n",
    "    # Transpose so that rows (genotypes) become columns\n",
    "    df = df.T\n",
    "\n",
    "    # Set NaN values to 0\n",
    "    df =  df.fillna(0)\n",
    "\n",
    "    # Add column with generation number\n",
    "    df['Generation'] = list(range(0, 50))\n",
    "\n",
    "    # Rename columns\n",
    "    #new_columns = {'2': 'Heterozygous', '1': 'Homozygous Dominant', '3': 'Recessive'}  \n",
    "    #df = df.rename(columns=new_columns)\n",
    "    df.columns = {'2': 'Heterozygous', '1': 'Homozygous Dominant', '3': 'Recessive', 'Generation': 'Generation'}\n",
    "\n",
    "    return df\n",
    "    \n"
   ]
  },
  {
   "cell_type": "code",
   "execution_count": 81,
   "metadata": {},
   "outputs": [
    {
     "data": {
      "text/html": [
       "<div>\n",
       "<style scoped>\n",
       "    .dataframe tbody tr th:only-of-type {\n",
       "        vertical-align: middle;\n",
       "    }\n",
       "\n",
       "    .dataframe tbody tr th {\n",
       "        vertical-align: top;\n",
       "    }\n",
       "\n",
       "    .dataframe thead th {\n",
       "        text-align: right;\n",
       "    }\n",
       "</style>\n",
       "<table border=\"1\" class=\"dataframe\">\n",
       "  <thead>\n",
       "    <tr style=\"text-align: right;\">\n",
       "      <th></th>\n",
       "      <th>2</th>\n",
       "      <th>1</th>\n",
       "      <th>3</th>\n",
       "      <th>Generation</th>\n",
       "    </tr>\n",
       "  </thead>\n",
       "  <tbody>\n",
       "    <tr>\n",
       "      <th>1</th>\n",
       "      <td>82.0</td>\n",
       "      <td>15.0</td>\n",
       "      <td>3.0</td>\n",
       "      <td>0</td>\n",
       "    </tr>\n",
       "    <tr>\n",
       "      <th>2</th>\n",
       "      <td>62.0</td>\n",
       "      <td>37.0</td>\n",
       "      <td>1.0</td>\n",
       "      <td>1</td>\n",
       "    </tr>\n",
       "    <tr>\n",
       "      <th>3</th>\n",
       "      <td>61.0</td>\n",
       "      <td>39.0</td>\n",
       "      <td>0.0</td>\n",
       "      <td>2</td>\n",
       "    </tr>\n",
       "    <tr>\n",
       "      <th>4</th>\n",
       "      <td>65.0</td>\n",
       "      <td>34.0</td>\n",
       "      <td>1.0</td>\n",
       "      <td>3</td>\n",
       "    </tr>\n",
       "    <tr>\n",
       "      <th>5</th>\n",
       "      <td>52.0</td>\n",
       "      <td>45.0</td>\n",
       "      <td>3.0</td>\n",
       "      <td>4</td>\n",
       "    </tr>\n",
       "  </tbody>\n",
       "</table>\n",
       "</div>"
      ],
      "text/plain": [
       "      2     1    3  Generation\n",
       "1  82.0  15.0  3.0           0\n",
       "2  62.0  37.0  1.0           1\n",
       "3  61.0  39.0  0.0           2\n",
       "4  65.0  34.0  1.0           3\n",
       "5  52.0  45.0  3.0           4"
      ]
     },
     "execution_count": 81,
     "metadata": {},
     "output_type": "execute_result"
    }
   ],
   "source": [
    "test_df = extract_generation_counts_to_df(filename= '../../Bin/simulation_output.txt', generation_number= 50)\n",
    "test_df.head()"
   ]
  },
  {
   "cell_type": "code",
   "execution_count": 82,
   "metadata": {},
   "outputs": [
    {
     "data": {
      "application/vnd.plotly.v1+json": {
       "config": {
        "plotlyServerURL": "https://plot.ly"
       },
       "data": [
        {
         "fillpattern": {
          "shape": ""
         },
         "hovertemplate": "variable=2<br>Generation=%{x}<br>value=%{y}<extra></extra>",
         "legendgroup": "2",
         "line": {
          "color": "#636efa"
         },
         "marker": {
          "symbol": "circle"
         },
         "mode": "lines",
         "name": "2",
         "orientation": "v",
         "showlegend": true,
         "stackgroup": "1",
         "type": "scatter",
         "x": [
          0,
          1,
          2,
          3,
          4,
          5,
          6,
          7,
          8,
          9,
          10,
          11,
          12,
          13,
          14,
          15,
          16,
          17,
          18,
          19,
          20,
          21,
          22,
          23,
          24,
          25,
          26,
          27,
          28,
          29,
          30,
          31,
          32,
          33,
          34,
          35,
          36,
          37,
          38,
          39,
          40,
          41,
          42,
          43,
          44,
          45,
          46,
          47,
          48,
          49
         ],
         "xaxis": "x",
         "y": [
          82,
          62,
          61,
          65,
          52,
          57,
          62,
          53,
          58,
          60,
          58,
          54,
          51,
          51,
          45,
          45,
          46,
          42,
          45,
          46,
          44,
          42,
          45,
          46,
          44,
          38,
          37,
          33,
          31,
          32,
          28,
          24,
          25,
          25,
          25,
          24,
          24,
          21,
          17,
          21,
          24,
          26,
          26,
          26,
          27,
          26,
          23,
          28,
          25,
          28
         ],
         "yaxis": "y"
        },
        {
         "fillpattern": {
          "shape": ""
         },
         "hovertemplate": "variable=1<br>Generation=%{x}<br>value=%{y}<extra></extra>",
         "legendgroup": "1",
         "line": {
          "color": "#EF553B"
         },
         "marker": {
          "symbol": "circle"
         },
         "mode": "lines",
         "name": "1",
         "orientation": "v",
         "showlegend": true,
         "stackgroup": "1",
         "type": "scatter",
         "x": [
          0,
          1,
          2,
          3,
          4,
          5,
          6,
          7,
          8,
          9,
          10,
          11,
          12,
          13,
          14,
          15,
          16,
          17,
          18,
          19,
          20,
          21,
          22,
          23,
          24,
          25,
          26,
          27,
          28,
          29,
          30,
          31,
          32,
          33,
          34,
          35,
          36,
          37,
          38,
          39,
          40,
          41,
          42,
          43,
          44,
          45,
          46,
          47,
          48,
          49
         ],
         "xaxis": "x",
         "y": [
          15,
          37,
          39,
          34,
          45,
          43,
          37,
          46,
          41,
          40,
          41,
          45,
          49,
          47,
          55,
          54,
          53,
          57,
          55,
          53,
          56,
          57,
          54,
          54,
          55,
          60,
          63,
          67,
          69,
          68,
          72,
          75,
          74,
          75,
          74,
          76,
          76,
          79,
          83,
          79,
          76,
          73,
          73,
          74,
          72,
          74,
          77,
          72,
          74,
          71
         ],
         "yaxis": "y"
        },
        {
         "fillpattern": {
          "shape": ""
         },
         "hovertemplate": "variable=3<br>Generation=%{x}<br>value=%{y}<extra></extra>",
         "legendgroup": "3",
         "line": {
          "color": "#00cc96"
         },
         "marker": {
          "symbol": "circle"
         },
         "mode": "lines",
         "name": "3",
         "orientation": "v",
         "showlegend": true,
         "stackgroup": "1",
         "type": "scatter",
         "x": [
          0,
          1,
          2,
          3,
          4,
          5,
          6,
          7,
          8,
          9,
          10,
          11,
          12,
          13,
          14,
          15,
          16,
          17,
          18,
          19,
          20,
          21,
          22,
          23,
          24,
          25,
          26,
          27,
          28,
          29,
          30,
          31,
          32,
          33,
          34,
          35,
          36,
          37,
          38,
          39,
          40,
          41,
          42,
          43,
          44,
          45,
          46,
          47,
          48,
          49
         ],
         "xaxis": "x",
         "y": [
          3,
          1,
          0,
          1,
          3,
          0,
          1,
          1,
          1,
          0,
          1,
          1,
          0,
          2,
          0,
          1,
          1,
          1,
          0,
          1,
          0,
          1,
          1,
          0,
          1,
          2,
          0,
          0,
          0,
          0,
          0,
          1,
          1,
          0,
          1,
          0,
          0,
          0,
          0,
          0,
          0,
          1,
          1,
          0,
          1,
          0,
          0,
          0,
          1,
          1
         ],
         "yaxis": "y"
        }
       ],
       "layout": {
        "legend": {
         "title": {
          "text": "variable"
         },
         "tracegroupgap": 0
        },
        "margin": {
         "t": 60
        },
        "template": {
         "data": {
          "bar": [
           {
            "error_x": {
             "color": "#2a3f5f"
            },
            "error_y": {
             "color": "#2a3f5f"
            },
            "marker": {
             "line": {
              "color": "#E5ECF6",
              "width": 0.5
             },
             "pattern": {
              "fillmode": "overlay",
              "size": 10,
              "solidity": 0.2
             }
            },
            "type": "bar"
           }
          ],
          "barpolar": [
           {
            "marker": {
             "line": {
              "color": "#E5ECF6",
              "width": 0.5
             },
             "pattern": {
              "fillmode": "overlay",
              "size": 10,
              "solidity": 0.2
             }
            },
            "type": "barpolar"
           }
          ],
          "carpet": [
           {
            "aaxis": {
             "endlinecolor": "#2a3f5f",
             "gridcolor": "white",
             "linecolor": "white",
             "minorgridcolor": "white",
             "startlinecolor": "#2a3f5f"
            },
            "baxis": {
             "endlinecolor": "#2a3f5f",
             "gridcolor": "white",
             "linecolor": "white",
             "minorgridcolor": "white",
             "startlinecolor": "#2a3f5f"
            },
            "type": "carpet"
           }
          ],
          "choropleth": [
           {
            "colorbar": {
             "outlinewidth": 0,
             "ticks": ""
            },
            "type": "choropleth"
           }
          ],
          "contour": [
           {
            "colorbar": {
             "outlinewidth": 0,
             "ticks": ""
            },
            "colorscale": [
             [
              0,
              "#0d0887"
             ],
             [
              0.1111111111111111,
              "#46039f"
             ],
             [
              0.2222222222222222,
              "#7201a8"
             ],
             [
              0.3333333333333333,
              "#9c179e"
             ],
             [
              0.4444444444444444,
              "#bd3786"
             ],
             [
              0.5555555555555556,
              "#d8576b"
             ],
             [
              0.6666666666666666,
              "#ed7953"
             ],
             [
              0.7777777777777778,
              "#fb9f3a"
             ],
             [
              0.8888888888888888,
              "#fdca26"
             ],
             [
              1,
              "#f0f921"
             ]
            ],
            "type": "contour"
           }
          ],
          "contourcarpet": [
           {
            "colorbar": {
             "outlinewidth": 0,
             "ticks": ""
            },
            "type": "contourcarpet"
           }
          ],
          "heatmap": [
           {
            "colorbar": {
             "outlinewidth": 0,
             "ticks": ""
            },
            "colorscale": [
             [
              0,
              "#0d0887"
             ],
             [
              0.1111111111111111,
              "#46039f"
             ],
             [
              0.2222222222222222,
              "#7201a8"
             ],
             [
              0.3333333333333333,
              "#9c179e"
             ],
             [
              0.4444444444444444,
              "#bd3786"
             ],
             [
              0.5555555555555556,
              "#d8576b"
             ],
             [
              0.6666666666666666,
              "#ed7953"
             ],
             [
              0.7777777777777778,
              "#fb9f3a"
             ],
             [
              0.8888888888888888,
              "#fdca26"
             ],
             [
              1,
              "#f0f921"
             ]
            ],
            "type": "heatmap"
           }
          ],
          "heatmapgl": [
           {
            "colorbar": {
             "outlinewidth": 0,
             "ticks": ""
            },
            "colorscale": [
             [
              0,
              "#0d0887"
             ],
             [
              0.1111111111111111,
              "#46039f"
             ],
             [
              0.2222222222222222,
              "#7201a8"
             ],
             [
              0.3333333333333333,
              "#9c179e"
             ],
             [
              0.4444444444444444,
              "#bd3786"
             ],
             [
              0.5555555555555556,
              "#d8576b"
             ],
             [
              0.6666666666666666,
              "#ed7953"
             ],
             [
              0.7777777777777778,
              "#fb9f3a"
             ],
             [
              0.8888888888888888,
              "#fdca26"
             ],
             [
              1,
              "#f0f921"
             ]
            ],
            "type": "heatmapgl"
           }
          ],
          "histogram": [
           {
            "marker": {
             "pattern": {
              "fillmode": "overlay",
              "size": 10,
              "solidity": 0.2
             }
            },
            "type": "histogram"
           }
          ],
          "histogram2d": [
           {
            "colorbar": {
             "outlinewidth": 0,
             "ticks": ""
            },
            "colorscale": [
             [
              0,
              "#0d0887"
             ],
             [
              0.1111111111111111,
              "#46039f"
             ],
             [
              0.2222222222222222,
              "#7201a8"
             ],
             [
              0.3333333333333333,
              "#9c179e"
             ],
             [
              0.4444444444444444,
              "#bd3786"
             ],
             [
              0.5555555555555556,
              "#d8576b"
             ],
             [
              0.6666666666666666,
              "#ed7953"
             ],
             [
              0.7777777777777778,
              "#fb9f3a"
             ],
             [
              0.8888888888888888,
              "#fdca26"
             ],
             [
              1,
              "#f0f921"
             ]
            ],
            "type": "histogram2d"
           }
          ],
          "histogram2dcontour": [
           {
            "colorbar": {
             "outlinewidth": 0,
             "ticks": ""
            },
            "colorscale": [
             [
              0,
              "#0d0887"
             ],
             [
              0.1111111111111111,
              "#46039f"
             ],
             [
              0.2222222222222222,
              "#7201a8"
             ],
             [
              0.3333333333333333,
              "#9c179e"
             ],
             [
              0.4444444444444444,
              "#bd3786"
             ],
             [
              0.5555555555555556,
              "#d8576b"
             ],
             [
              0.6666666666666666,
              "#ed7953"
             ],
             [
              0.7777777777777778,
              "#fb9f3a"
             ],
             [
              0.8888888888888888,
              "#fdca26"
             ],
             [
              1,
              "#f0f921"
             ]
            ],
            "type": "histogram2dcontour"
           }
          ],
          "mesh3d": [
           {
            "colorbar": {
             "outlinewidth": 0,
             "ticks": ""
            },
            "type": "mesh3d"
           }
          ],
          "parcoords": [
           {
            "line": {
             "colorbar": {
              "outlinewidth": 0,
              "ticks": ""
             }
            },
            "type": "parcoords"
           }
          ],
          "pie": [
           {
            "automargin": true,
            "type": "pie"
           }
          ],
          "scatter": [
           {
            "fillpattern": {
             "fillmode": "overlay",
             "size": 10,
             "solidity": 0.2
            },
            "type": "scatter"
           }
          ],
          "scatter3d": [
           {
            "line": {
             "colorbar": {
              "outlinewidth": 0,
              "ticks": ""
             }
            },
            "marker": {
             "colorbar": {
              "outlinewidth": 0,
              "ticks": ""
             }
            },
            "type": "scatter3d"
           }
          ],
          "scattercarpet": [
           {
            "marker": {
             "colorbar": {
              "outlinewidth": 0,
              "ticks": ""
             }
            },
            "type": "scattercarpet"
           }
          ],
          "scattergeo": [
           {
            "marker": {
             "colorbar": {
              "outlinewidth": 0,
              "ticks": ""
             }
            },
            "type": "scattergeo"
           }
          ],
          "scattergl": [
           {
            "marker": {
             "colorbar": {
              "outlinewidth": 0,
              "ticks": ""
             }
            },
            "type": "scattergl"
           }
          ],
          "scattermapbox": [
           {
            "marker": {
             "colorbar": {
              "outlinewidth": 0,
              "ticks": ""
             }
            },
            "type": "scattermapbox"
           }
          ],
          "scatterpolar": [
           {
            "marker": {
             "colorbar": {
              "outlinewidth": 0,
              "ticks": ""
             }
            },
            "type": "scatterpolar"
           }
          ],
          "scatterpolargl": [
           {
            "marker": {
             "colorbar": {
              "outlinewidth": 0,
              "ticks": ""
             }
            },
            "type": "scatterpolargl"
           }
          ],
          "scatterternary": [
           {
            "marker": {
             "colorbar": {
              "outlinewidth": 0,
              "ticks": ""
             }
            },
            "type": "scatterternary"
           }
          ],
          "surface": [
           {
            "colorbar": {
             "outlinewidth": 0,
             "ticks": ""
            },
            "colorscale": [
             [
              0,
              "#0d0887"
             ],
             [
              0.1111111111111111,
              "#46039f"
             ],
             [
              0.2222222222222222,
              "#7201a8"
             ],
             [
              0.3333333333333333,
              "#9c179e"
             ],
             [
              0.4444444444444444,
              "#bd3786"
             ],
             [
              0.5555555555555556,
              "#d8576b"
             ],
             [
              0.6666666666666666,
              "#ed7953"
             ],
             [
              0.7777777777777778,
              "#fb9f3a"
             ],
             [
              0.8888888888888888,
              "#fdca26"
             ],
             [
              1,
              "#f0f921"
             ]
            ],
            "type": "surface"
           }
          ],
          "table": [
           {
            "cells": {
             "fill": {
              "color": "#EBF0F8"
             },
             "line": {
              "color": "white"
             }
            },
            "header": {
             "fill": {
              "color": "#C8D4E3"
             },
             "line": {
              "color": "white"
             }
            },
            "type": "table"
           }
          ]
         },
         "layout": {
          "annotationdefaults": {
           "arrowcolor": "#2a3f5f",
           "arrowhead": 0,
           "arrowwidth": 1
          },
          "autotypenumbers": "strict",
          "coloraxis": {
           "colorbar": {
            "outlinewidth": 0,
            "ticks": ""
           }
          },
          "colorscale": {
           "diverging": [
            [
             0,
             "#8e0152"
            ],
            [
             0.1,
             "#c51b7d"
            ],
            [
             0.2,
             "#de77ae"
            ],
            [
             0.3,
             "#f1b6da"
            ],
            [
             0.4,
             "#fde0ef"
            ],
            [
             0.5,
             "#f7f7f7"
            ],
            [
             0.6,
             "#e6f5d0"
            ],
            [
             0.7,
             "#b8e186"
            ],
            [
             0.8,
             "#7fbc41"
            ],
            [
             0.9,
             "#4d9221"
            ],
            [
             1,
             "#276419"
            ]
           ],
           "sequential": [
            [
             0,
             "#0d0887"
            ],
            [
             0.1111111111111111,
             "#46039f"
            ],
            [
             0.2222222222222222,
             "#7201a8"
            ],
            [
             0.3333333333333333,
             "#9c179e"
            ],
            [
             0.4444444444444444,
             "#bd3786"
            ],
            [
             0.5555555555555556,
             "#d8576b"
            ],
            [
             0.6666666666666666,
             "#ed7953"
            ],
            [
             0.7777777777777778,
             "#fb9f3a"
            ],
            [
             0.8888888888888888,
             "#fdca26"
            ],
            [
             1,
             "#f0f921"
            ]
           ],
           "sequentialminus": [
            [
             0,
             "#0d0887"
            ],
            [
             0.1111111111111111,
             "#46039f"
            ],
            [
             0.2222222222222222,
             "#7201a8"
            ],
            [
             0.3333333333333333,
             "#9c179e"
            ],
            [
             0.4444444444444444,
             "#bd3786"
            ],
            [
             0.5555555555555556,
             "#d8576b"
            ],
            [
             0.6666666666666666,
             "#ed7953"
            ],
            [
             0.7777777777777778,
             "#fb9f3a"
            ],
            [
             0.8888888888888888,
             "#fdca26"
            ],
            [
             1,
             "#f0f921"
            ]
           ]
          },
          "colorway": [
           "#636efa",
           "#EF553B",
           "#00cc96",
           "#ab63fa",
           "#FFA15A",
           "#19d3f3",
           "#FF6692",
           "#B6E880",
           "#FF97FF",
           "#FECB52"
          ],
          "font": {
           "color": "#2a3f5f"
          },
          "geo": {
           "bgcolor": "white",
           "lakecolor": "white",
           "landcolor": "#E5ECF6",
           "showlakes": true,
           "showland": true,
           "subunitcolor": "white"
          },
          "hoverlabel": {
           "align": "left"
          },
          "hovermode": "closest",
          "mapbox": {
           "style": "light"
          },
          "paper_bgcolor": "white",
          "plot_bgcolor": "#E5ECF6",
          "polar": {
           "angularaxis": {
            "gridcolor": "white",
            "linecolor": "white",
            "ticks": ""
           },
           "bgcolor": "#E5ECF6",
           "radialaxis": {
            "gridcolor": "white",
            "linecolor": "white",
            "ticks": ""
           }
          },
          "scene": {
           "xaxis": {
            "backgroundcolor": "#E5ECF6",
            "gridcolor": "white",
            "gridwidth": 2,
            "linecolor": "white",
            "showbackground": true,
            "ticks": "",
            "zerolinecolor": "white"
           },
           "yaxis": {
            "backgroundcolor": "#E5ECF6",
            "gridcolor": "white",
            "gridwidth": 2,
            "linecolor": "white",
            "showbackground": true,
            "ticks": "",
            "zerolinecolor": "white"
           },
           "zaxis": {
            "backgroundcolor": "#E5ECF6",
            "gridcolor": "white",
            "gridwidth": 2,
            "linecolor": "white",
            "showbackground": true,
            "ticks": "",
            "zerolinecolor": "white"
           }
          },
          "shapedefaults": {
           "line": {
            "color": "#2a3f5f"
           }
          },
          "ternary": {
           "aaxis": {
            "gridcolor": "white",
            "linecolor": "white",
            "ticks": ""
           },
           "baxis": {
            "gridcolor": "white",
            "linecolor": "white",
            "ticks": ""
           },
           "bgcolor": "#E5ECF6",
           "caxis": {
            "gridcolor": "white",
            "linecolor": "white",
            "ticks": ""
           }
          },
          "title": {
           "x": 0.05
          },
          "xaxis": {
           "automargin": true,
           "gridcolor": "white",
           "linecolor": "white",
           "ticks": "",
           "title": {
            "standoff": 15
           },
           "zerolinecolor": "white",
           "zerolinewidth": 2
          },
          "yaxis": {
           "automargin": true,
           "gridcolor": "white",
           "linecolor": "white",
           "ticks": "",
           "title": {
            "standoff": 15
           },
           "zerolinecolor": "white",
           "zerolinewidth": 2
          }
         }
        },
        "xaxis": {
         "anchor": "y",
         "domain": [
          0,
          1
         ],
         "title": {
          "text": "Generation"
         }
        },
        "yaxis": {
         "anchor": "x",
         "domain": [
          0,
          1
         ],
         "title": {
          "text": "value"
         }
        }
       }
      }
     },
     "metadata": {},
     "output_type": "display_data"
    }
   ],
   "source": [
    "fig = px.area(test_df, x='Generation', y=['2','1', '3'])\n",
    "fig.show()"
   ]
  },
  {
   "cell_type": "markdown",
   "metadata": {},
   "source": []
  }
 ],
 "metadata": {
  "kernelspec": {
   "display_name": "msse-python",
   "language": "python",
   "name": "python3"
  },
  "language_info": {
   "codemirror_mode": {
    "name": "ipython",
    "version": 3
   },
   "file_extension": ".py",
   "mimetype": "text/x-python",
   "name": "python",
   "nbconvert_exporter": "python",
   "pygments_lexer": "ipython3",
   "version": "3.11.4"
  },
  "orig_nbformat": 4
 },
 "nbformat": 4,
 "nbformat_minor": 2
}
